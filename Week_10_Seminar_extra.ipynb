{
  "cells": [
    {
      "cell_type": "markdown",
      "metadata": {
        "id": "4_7KjskLX1q-"
      },
      "source": [
        "# LELA32051 Computational Linguistics Week 10 extra activity\n"
      ],
      "id": "4_7KjskLX1q-"
    },
    {
      "cell_type": "markdown",
      "metadata": {
        "id": "yqQ6hQEziFSp"
      },
      "source": [
        "### Chunking / Shallow Parsing\n",
        "\n",
        "Chunking involves grouping together words into elementary phrases. In its most common form it doesn't involve any hierachical structure.\n"
      ],
      "id": "yqQ6hQEziFSp"
    },
    {
      "cell_type": "code",
      "execution_count": null,
      "metadata": {
        "id": "iU7Nm8nxWtP3"
      },
      "outputs": [],
      "source": [
        "import nltk\n",
        "nltk.download('punkt')\n",
        "nltk.download('averaged_perceptron_tagger')\n",
        "nltk.download('universal_tagset')"
      ],
      "id": "iU7Nm8nxWtP3"
    },
    {
      "cell_type": "code",
      "execution_count": null,
      "metadata": {
        "id": "PvmAzVJnh4It"
      },
      "outputs": [],
      "source": [
        "text = nltk.word_tokenize(\"I study Linguistics and Social Anthropology at the University of Manchester\")"
      ],
      "id": "PvmAzVJnh4It"
    },
    {
      "cell_type": "code",
      "execution_count": null,
      "metadata": {
        "id": "5zDIdnUEWIFJ"
      },
      "outputs": [],
      "source": [
        "grammar = r\"\"\"\n",
        "  NP: {<DET|ADP>?<ADJ>*<NOUN>}\n",
        "      {<NOUN>+} \n",
        "\"\"\"\n",
        "sent=nltk.pos_tag(text,tagset=\"universal\")\n",
        "cp = nltk.RegexpParser(grammar)\n",
        "cs = cp.parse(sent)\n",
        "print(cs)"
      ],
      "id": "5zDIdnUEWIFJ"
    },
    {
      "cell_type": "markdown",
      "metadata": {
        "id": "e53dKlaEg73e"
      },
      "source": [
        "Update the grammar so that it produces the following shallow parse: <br> <br>\n",
        "(S <br>\n",
        "  (NP I/PRON) <br>\n",
        "  study/VERB <br>\n",
        "  (NP Linguistics/NOUN and/CONJ Social/NOUN Anthropology/NOUN) <br>\n",
        "  at/ADP <br>\n",
        "  (NP the/DET University/NOUN of/ADP Manchester/NOUN)) <br>"
      ],
      "id": "e53dKlaEg73e"
    }
  ],
  "metadata": {
    "colab": {
      "name": "Week_9_Seminar.ipynb",
      "provenance": []
    },
    "kernelspec": {
      "display_name": "Python 3",
      "language": "python",
      "name": "python3"
    },
    "language_info": {
      "codemirror_mode": {
        "name": "ipython",
        "version": 3
      },
      "file_extension": ".py",
      "mimetype": "text/x-python",
      "name": "python",
      "nbconvert_exporter": "python",
      "pygments_lexer": "ipython3",
      "version": "3.7.6"
    }
  },
  "nbformat": 4,
  "nbformat_minor": 5
}