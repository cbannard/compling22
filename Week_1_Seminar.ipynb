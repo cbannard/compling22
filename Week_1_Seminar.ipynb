{
 "cells": [
  {
   "cell_type": "markdown",
   "id": "7ac18e78",
   "metadata": {},
   "source": [
    "# LELA32051 Computational Linguistics Week 1\n",
    "## What is Python?\n",
    "\n",
    "When we talk about data in computational linguistics we usually mean text data or audio files. While this data is meaningful to us, to the computer data is always just sequences of numbers. So to a computer the character i is 1101001. Fortunately, we never have to engage with this numeric representation - we can input an i into a computer and it will be converted into the computer's language for us.\n",
    "\n",
    "A similar situation arises with the instructions that a computer applies to data. The instructions that the computer sees are in a purely numeric format known as machine code. Fortunately, we as users do not need to engage with machine code. Instead, we use what is known as a programming language. This is a much easier to read and write language that we input and which is converted to machine code for us.\n",
    "\n",
    "The programming language we will employ for this module is called Python."
   ]
  },
  {
   "cell_type": "markdown",
   "id": "f9acedd8",
   "metadata": {},
   "source": [
    "## Variables and datatypes\n",
    "Data in Python programs is manipulated using variables. A variable is like a box in which you can store information of any kind. You assign data to variables using the assignment operator =. For example you can store the number 10 as the variable i as follows:"
   ]
  },
  {
   "cell_type": "code",
   "execution_count": null,
   "id": "f9906764",
   "metadata": {},
   "outputs": [],
   "source": [
    "i = 10"
   ]
  },
  {
   "cell_type": "markdown",
   "id": "459f4508",
   "metadata": {},
   "source": [
    "Once stored these variables can be manipulated, for example using the standard mathematical operators for addition \"+\", subtraction \"-\", multiplication \"*\" and division \"/\". For example:"
   ]
  },
  {
   "cell_type": "code",
   "execution_count": null,
   "id": "e1b8536a",
   "metadata": {},
   "outputs": [],
   "source": [
    "i+1*3/2"
   ]
  },
  {
   "cell_type": "markdown",
   "id": "9645372d",
   "metadata": {},
   "source": [
    "Data in Python has different types. i, as a whole number, is an integer, or int. The output from the operations above, since it contains a decimal point is a floating point number or float. There are other types of numbers in Python but it is these two you will work with most.\n",
    "\n",
    "Variables can also be used to store a letter or a sequence of letters, known as a string:"
   ]
  },
  {
   "cell_type": "code",
   "execution_count": null,
   "id": "ddecf601",
   "metadata": {},
   "outputs": [],
   "source": [
    "j = \"My name is Harry\""
   ]
  },
  {
   "cell_type": "markdown",
   "id": "ec0cc6b0",
   "metadata": {},
   "source": [
    "The strings can be combined using the \"+\" symbol which when applied to strings functions as a concatenation operator: "
   ]
  },
  {
   "cell_type": "code",
   "execution_count": null,
   "id": "7005e36f",
   "metadata": {},
   "outputs": [],
   "source": [
    "k = j + \" Kane\""
   ]
  },
  {
   "cell_type": "markdown",
   "id": "1f38b300",
   "metadata": {},
   "source": [
    "Once you have stored information in a variable, you can print it as follows:"
   ]
  },
  {
   "cell_type": "code",
   "execution_count": null,
   "id": "5a86d8f5",
   "metadata": {},
   "outputs": [],
   "source": [
    "print(k)"
   ]
  },
  {
   "cell_type": "markdown",
   "id": "655ffe07",
   "metadata": {},
   "source": [
    "You can also print a series of variables as follows:"
   ]
  },
  {
   "cell_type": "code",
   "execution_count": null,
   "id": "4a056c33",
   "metadata": {},
   "outputs": [],
   "source": [
    "print(j + \"Kane\")"
   ]
  },
  {
   "cell_type": "markdown",
   "id": "28516898",
   "metadata": {},
   "source": [
    "The print function however expects all variables that are concatenated in this way to be of the same data type, so if you mix them you will get an error message"
   ]
  },
  {
   "cell_type": "code",
   "execution_count": null,
   "id": "5125df97",
   "metadata": {},
   "outputs": [],
   "source": [
    "print(k + \" and my shirt number is \" + i)"
   ]
  },
  {
   "cell_type": "markdown",
   "id": "d0772e52",
   "metadata": {},
   "source": [
    "You can avoid this by explicitly converting the type of your variables as in the follows. To change an object stored in a variable x to an int or a float you would write int(x) or float(x) respectively."
   ]
  },
  {
   "cell_type": "code",
   "execution_count": null,
   "id": "8619e2e5",
   "metadata": {},
   "outputs": [],
   "source": [
    "print(k + \" and my shirt number is \" + str(i))"
   ]
  },
  {
   "cell_type": "markdown",
   "id": "2605038d",
   "metadata": {},
   "source": [
    "# A brief mention of functions\n",
    "\n",
    "The commands print() and str() we used above are what known as functions. These are operations that can be applied to entities in our code. These are a very important part of Python programming and later in the module we will look at writing our own functions. For now I just want to mention that there are a number of useful built-in functions that can be applied to strings. A list is here: https://www.w3schools.com/python/python_ref_string.asp\n",
    "\n",
    "Here are a couple of examples: "
   ]
  },
  {
   "cell_type": "code",
   "execution_count": null,
   "id": "521f72d7",
   "metadata": {},
   "outputs": [],
   "source": [
    "name=\"tom\"\n",
    "str.capitalize(name) "
   ]
  },
  {
   "cell_type": "code",
   "execution_count": null,
   "id": "434abd95",
   "metadata": {},
   "outputs": [],
   "source": [
    "str.upper(name)"
   ]
  },
  {
   "cell_type": "markdown",
   "id": "4246aa03",
   "metadata": {},
   "source": [
    "Exercise: Use a function to turn the name tom into the name tommy"
   ]
  },
  {
   "cell_type": "markdown",
   "id": "929b3bab",
   "metadata": {},
   "source": [
    "# Lists\n",
    "\n",
    "So far I have represented sentences as single strings. For most purposes in computational linguistics we don't want to do this - we want instead to represent them in ways that recognizes the word boundaries. In order to do this we often represent sentences as lists of words, each of which is represented as a string. A list of strings can be created by putting words (as strings in quotes) inside square brackets as in the following example:"
   ]
  },
  {
   "cell_type": "code",
   "execution_count": null,
   "id": "3a5be46f",
   "metadata": {},
   "outputs": [],
   "source": [
    "sentence = [\"this\", \"is\", \"a\", \"sentence\"]"
   ]
  },
  {
   "cell_type": "markdown",
   "id": "e10e5a31",
   "metadata": {},
   "source": [
    "We can print lists of words as a single string when needed as follows. The character in the quotes before \".join\" sets the character to be printed between the elements of the list. Here we use a space."
   ]
  },
  {
   "cell_type": "code",
   "execution_count": null,
   "id": "39ec0d58",
   "metadata": {},
   "outputs": [],
   "source": [
    "print(\" \".join(sentence))"
   ]
  },
  {
   "cell_type": "markdown",
   "id": "526765e3",
   "metadata": {},
   "source": [
    "However we can also select elements from within the list. The entries in a list are indexed numberically starting with zero. So the first element is sentence[0] and the last element of this four element list is sentence[3]. These can then be select for printing as follows:"
   ]
  },
  {
   "cell_type": "code",
   "execution_count": null,
   "id": "b7519cd5",
   "metadata": {},
   "outputs": [],
   "source": [
    "print(sentence[2])"
   ]
  },
  {
   "cell_type": "markdown",
   "id": "568a3748",
   "metadata": {},
   "source": [
    "We can also select subsequences of entries, by specifying a range as follows. Notice that the second character in the range isn't included - so 0:2 means from 0 up to the number before 2."
   ]
  },
  {
   "cell_type": "code",
   "execution_count": null,
   "id": "2f15bd8c",
   "metadata": {},
   "outputs": [],
   "source": [
    "print(\" \".join(sentence[0:2]))"
   ]
  },
  {
   "cell_type": "markdown",
   "id": "fae74c0f",
   "metadata": {},
   "source": [
    "This allows us to, for example, insert elements in the middle of sentences as follows:"
   ]
  },
  {
   "cell_type": "code",
   "execution_count": null,
   "id": "82e133f3",
   "metadata": {},
   "outputs": [],
   "source": [
    "print(\" \".join(sentence[0:3]) + \" short \" + sentence[3])"
   ]
  },
  {
   "cell_type": "markdown",
   "id": "a78de597",
   "metadata": {},
   "source": [
    "Exercise: create a sentence in list form for the sequence \"George is a cat\". Then use substring selection to produce the sentence \"George is a big cat\"."
   ]
  },
  {
   "cell_type": "code",
   "execution_count": null,
   "id": "fd68d4c6",
   "metadata": {},
   "outputs": [],
   "source": []
  },
  {
   "cell_type": "markdown",
   "id": "3f601ea5",
   "metadata": {},
   "source": [
    "Like strings, lists have their own built in functions that you can make use of:\n",
    "https://www.w3schools.com/python/python_ref_list.asp"
   ]
  },
  {
   "cell_type": "markdown",
   "id": "b3a95a86",
   "metadata": {},
   "source": [
    "# Loading data\n",
    "\n",
    "Computational linguistics involves handling text data. We saw that we can type in a string of characters, or indeed lists of words, above. However instead of typing in data, we often want to load it from files.\n",
    "Download this file to your computer:\n",
    "https://www.gutenberg.org/files/2554/2554-0.txt\n",
    "\n",
    "If you are using Google Colab then run the code immediately below. Otherwise just put it in the same folder as this notebook.We can also load data directly from a web address without downloading it first, but that will involve some additional preliminary steps that require explanation so I will leave it for now."
   ]
  },
  {
   "cell_type": "code",
   "execution_count": null,
   "id": "1d6ca39b",
   "metadata": {},
   "outputs": [],
   "source": [
    "# If using colab\n",
    "from google.colab import files\n",
    "files.upload() "
   ]
  },
  {
   "cell_type": "code",
   "execution_count": 1,
   "id": "90044a37",
   "metadata": {},
   "outputs": [
    {
     "name": "stdout",
     "output_type": "stream",
     "text": [
      "On an exceptionally hot evening early in July a young man came out of\n",
      "the garret in which he lodged in S. Place and walked slowly, as though\n",
      "in hesitation, towards K. bridge.\n",
      "\n",
      "He had successfully avoided meeting his landlady on the staircase. His\n",
      "garret was under the roof of a high, five-storied house and was more\n",
      "like a cupboard than a room. The landlady who provided him with garret,\n",
      "dinners, and attendance, lived on the floor below, and every time\n",
      "he went out he was obliged to pass her kitchen, the door of which\n",
      "invariably stood open. And each time he passed, the young man had a\n",
      "sick, frightened feeling, which made him scowl and feel ashamed. He was\n",
      "hopelessly in debt to his landlady, and was afraid of meeting her.\n",
      "\n",
      "This was not because he was cowardly and abject, quite the contrary; but\n",
      "for some time past he had been in an overstrained irritable condition,\n",
      "verging on hypochondria. He had become so completely absorbed in\n",
      "himself, and isolated from his fellows that he dreaded meeting, not\n",
      "only his landlady, but anyone at all. He was crushed by poverty, but the\n",
      "anxieties of his position had of late ceased to weigh upon him. He had\n",
      "given up attending to matters of practical importance; he had lost all\n",
      "desire to do so. Nothing that any landlady could do had a real terror\n",
      "for him. But to be stopped on the stairs, to be forced to listen to her\n",
      "trivial, irrelevant gossip, to pestering demands for payment, threats\n",
      "and complaints, and to rack his brains for excuses, to prevaricate, to\n",
      "lie--no, rather than that, he would creep down the stairs like a cat and\n",
      "slip out unseen.\n",
      "\n",
      "This evening, however, on coming out into the street, he became acutely\n",
      "aware of his fears.\n",
      "\n",
      "“I want to attempt a thing _like that_ and am frightened by these\n",
      "trifles,” he thought, with an odd smile. “Hm... yes, all is in a man’s\n",
      "hands and he lets it all slip from cowardice, that’s an axiom. It would\n",
      "be interesting to know what it is men are most afraid of. Taking a new\n",
      "step, uttering a new word is what they fear most.... But I am talking\n",
      "too much. It’s because I chatter that I do nothing. Or perhaps it is\n",
      "that I chatter because I do nothing. I’ve learned to chatter this\n",
      "last month, lying for days together in my den thinking... of Jack the\n",
      "Giant-killer. Why am I going there now? Am I capable of _that_? Is\n",
      "_that_ serious? It is not serious at all. It’s simply a fantasy to amuse\n",
      "myself; a plaything! Yes, maybe it is a plaything.”\n",
      "\n",
      "The heat in the street was terrible: and the airlessness, the bustle\n",
      "and the plaster, scaffolding, bricks, and dust all about him, and that\n",
      "special Petersburg stench, so familiar to all who are unable to get out\n",
      "of town in summer--all worked painfully upon the young man’s already\n",
      "overwrought nerves. The insufferable stench from the pot-houses, which\n",
      "are particularly numerous in that part of the town, and the drunken men\n",
      "whom he met continually, although it was a working day, completed\n",
      "the revolting misery of the picture. An expression of the profoundest\n",
      "disgust gleamed for a moment in the young man’s refined face. He was,\n",
      "by the way, exceptionally handsome, above the average in height, slim,\n",
      "well-built, with beautiful dark eyes and dark brown hair. Soon he sank\n",
      "into deep thought, or more accurately speaking into a complete blankness\n",
      "of mind; he walked along not observing what was about him and not caring\n",
      "to observe it. From time to time, he would mutter something, from the\n",
      "habit of talking to himself, to which he had just confessed. At these\n",
      "moments he would become conscious that his ideas were sometimes in a\n",
      "tangle and that he was very weak; for two days he had scarcely tasted\n",
      "food.\n",
      "\n",
      "He was so badly dressed that even a man accustomed to shabbiness would\n",
      "have been ashamed to be seen in the street in such rags. In that quarter\n",
      "of the town, however, scarcely any shortcoming in dress would have\n",
      "created surprise. Owing to the proximity of the Hay Market, the number\n",
      "of establishments of bad character, the preponderance of the trading\n",
      "and working class population crowded in these streets and alleys in the\n",
      "heart of Petersburg, types so various were to be seen in the streets\n",
      "that no figure, however queer, would have caused surprise. But there was\n",
      "such accumulated bitterness and contempt in the young man’s heart, that,\n",
      "in spite of all the fastidiousness of youth, he minded his rags least\n",
      "of all in the street. It was a different matter when he met with\n",
      "acquaintances or with former fellow students, whom, indeed, he disliked\n",
      "meeting at any time. And yet when a drunken man who, for some unknown\n",
      "reason, was being taken somewhere in a huge waggon dragged by a heavy\n",
      "dray horse, suddenly shouted at him as he drove past: “Hey there, German\n",
      "hatter” bawling at the top of his voice and pointing at him--the young\n",
      "man stopped suddenly and clutched tremulously at his hat. It was a tall\n",
      "round hat from Zimmerman’s, but completely worn out, rusty with age, all\n",
      "torn and bespattered, brimless and bent on one side in a most unseemly\n",
      "fashion. Not shame, however, but quite another feeling akin to terror\n",
      "had overtaken him.\n",
      "\n",
      "“I knew it,” he muttered in confusion, “I thought so! That’s the worst\n",
      "of all! Why, a stupid thing like this, the most trivial detail might\n",
      "spoil the whole plan. Yes, my hat is too noticeable.... It looks absurd\n",
      "and that makes it noticeable.... With my rags I ought to wear a cap, any\n",
      "sort of old pancake, but not this grotesque thing. Nobody wears such\n",
      "a hat, it would be noticed a mile off, it would be remembered.... What\n",
      "matters is that people would remember it, and that would give them\n",
      "a clue. For this business one should be as little conspicuous as\n",
      "possible.... Trifles, trifles are what matter! Why, it’s just such\n",
      "trifles that always ruin everything....”\n",
      "\n",
      "He had not far to go; he knew indeed how many steps it was from the gate\n",
      "of his lodging house: exactly seven hundred and thirty. He had counted\n",
      "them once when he had been lost in dreams. At the time he had put no\n",
      "faith in those dreams and was only tantalising himself by their hideous\n",
      "but daring recklessness. Now, a month later, he had begun to look upon\n",
      "them differently, and, in spite of the monologues in which he jeered at\n",
      "his own impotence and indecision, he had involuntarily come to regard\n",
      "this “hideous” dream as an exploit to be attempted, although he\n",
      "still did not realise this himself. He was positively going now for a\n",
      "“rehearsal” of his project, and at every step his excitement grew more\n",
      "and more violent.\n",
      "\n",
      "With a sinking heart and a nervous tremor, he went up to a huge house\n",
      "which on one side looked on to the canal, and on the other into the\n",
      "street. This house was let out in tiny tenements and was inhabited by\n",
      "working people of all kinds--tailors, locksmiths, cooks, Germans of\n",
      "sorts, girls picking up a living as best they could, petty clerks, etc.\n",
      "There was a continual coming and going through the two gates and in the\n",
      "two courtyards of the house. Three or four door-keepers were employed on\n",
      "the building. The young man was very glad to meet none of them, and\n",
      "at once slipped unnoticed through the door on the right, and up the\n",
      "staircase. It was a back staircase, dark and narrow, but he was familiar\n",
      "with it already, and knew his way, and he liked all these surroundings:\n",
      "in such darkness even the most inquisitive eyes were not to be dreaded.\n",
      "\n",
      "“If I am so scared now, what would it be if it somehow came to pass that\n",
      "I were really going to do it?” he could not help asking himself as he\n",
      "reached the fourth storey. There his progress was barred by some porters\n",
      "who were engaged in moving furniture out of a flat. He knew that the\n",
      "flat had been occupied by a German clerk in the civil service, and his\n",
      "family. This German was moving out then, and so the fourth floor on this\n",
      "staircase would be untenanted except by the old woman. “That’s a good\n",
      "thing anyway,” he thought to himself, as he rang the bell of the old\n",
      "woman’s flat. The bell gave a faint tinkle as though it were made of\n",
      "tin and not of copper. The little flats in such houses always have bells\n",
      "that ring like that. He had forgotten the note of that bell, and now\n",
      "its peculiar tinkle seemed to remind him of something and to bring it\n",
      "clearly before him.... He started, his nerves were terribly overstrained\n",
      "by now. In a little while, the door was opened a tiny crack: the old\n",
      "woman eyed her visitor with evident distrust through the crack, and\n",
      "nothing could be seen but her little eyes, glittering in the darkness.\n",
      "But, seeing a number of people on the landing, she grew bolder, and\n",
      "opened the door wide. The young man stepped into the dark entry, which\n",
      "was partitioned off from the tiny kitchen. The old woman stood facing\n",
      "him in silence and looking inquiringly at him. She was a diminutive,\n",
      "withered up old woman of sixty, with sharp malignant eyes and a sharp\n",
      "little nose. Her colourless, somewhat grizzled hair was thickly smeared\n",
      "with oil, and she wore no kerchief over it. Round her thin long neck,\n",
      "which looked like a hen’s leg, was knotted some sort of flannel rag,\n",
      "and, in spite of the heat, there hung flapping on her shoulders, a mangy\n",
      "fur cape, yellow with age. The old woman coughed and groaned at every\n",
      "instant. The young man must have looked at her with a rather peculiar\n",
      "expression, for a gleam of mistrust came into her eyes again.\n",
      "\n",
      "“Raskolnikov, a student, I came here a month ago,” the young man made\n",
      "haste to mutter, with a half bow, remembering that he ought to be more\n",
      "polite.\n",
      "\n",
      "“I remember, my good sir, I remember quite well your coming here,” the\n",
      "old woman said distinctly, still keeping her inquiring eyes on his face.\n",
      "\n",
      "“And here... I am again on the same errand,” Raskolnikov continued, a\n",
      "little disconcerted and surprised at the old woman’s mistrust. “Perhaps\n",
      "she is always like that though, only I did not notice it the other\n",
      "time,” he thought with an uneasy feeling.\n",
      "\n",
      "The old woman paused, as though hesitating; then stepped on one side,\n",
      "and pointing to the door of the room, she said, letting her visitor pass\n",
      "in front of her:\n",
      "\n",
      "“Step in, my good sir.”\n",
      "\n",
      "The little room into which the young man walked, with yellow paper on\n",
      "the walls, geraniums and muslin curtains in the windows, was brightly\n",
      "lighted up at that moment by the setting sun.\n",
      "\n",
      "“So the sun will shine like this _then_ too!” flashed as it were by\n",
      "chance through Raskolnikov’s mind, and with a rapid glance he scanned\n",
      "everything in the room, trying as far as possible to notice and\n",
      "remember its arrangement. But there was nothing special in the room. The\n",
      "furniture, all very old and of yellow wood, consisted of a sofa with\n",
      "a huge bent wooden back, an oval table in front of the sofa, a\n",
      "dressing-table with a looking-glass fixed on it between the windows,\n",
      "chairs along the walls and two or three half-penny prints in yellow\n",
      "frames, representing German damsels with birds in their hands--that was\n",
      "all. In the corner a light was burning before a small ikon. Everything\n",
      "was very clean; the floor and the furniture were brightly polished;\n",
      "everything shone.\n",
      "\n",
      "“Lizaveta’s work,” thought the young man. There was not a speck of dust\n",
      "to be seen in the whole flat.\n",
      "\n",
      "“It’s in the houses of spiteful old widows that one finds such\n",
      "cleanliness,” Raskolnikov thought again, and he stole a curious glance\n",
      "at the cotton curtain over the door leading into another tiny room, in\n",
      "which stood the old woman’s bed and chest of drawers and into which he\n",
      "had never looked before. These two rooms made up the whole flat.\n",
      "\n",
      "“What do you want?” the old woman said severely, coming into the room\n",
      "and, as before, standing in front of him so as to look him straight in\n",
      "the face.\n",
      "\n",
      "“I’ve brought something to pawn here,” and he drew out of his pocket\n",
      "an old-fashioned flat silver watch, on the back of which was engraved a\n",
      "globe; the chain was of steel.\n",
      "\n",
      "“But the time is up for your last pledge. The month was up the day\n",
      "before yesterday.”\n",
      "\n",
      "“I will bring you the interest for another month; wait a little.”\n",
      "\n",
      "“But that’s for me to do as I please, my good sir, to wait or to sell\n",
      "your pledge at once.”\n",
      "\n",
      "“How much will you give me for the watch, Alyona Ivanovna?”\n",
      "\n",
      "“You come with such trifles, my good sir, it’s scarcely worth anything.\n",
      "I gave you two roubles last time for your ring and one could buy it\n",
      "quite new at a jeweler’s for a rouble and a half.”\n",
      "\n",
      "“Give me four roubles for it, I shall redeem it, it was my father’s. I\n",
      "shall be getting some money soon.”\n",
      "\n",
      "“A rouble and a half, and interest in advance, if you like!”\n",
      "\n",
      "“A rouble and a half!” cried the young man.\n",
      "\n",
      "“Please yourself”--and the old woman handed him back the watch. The\n",
      "young man took it, and was so angry that he was on the point of going\n",
      "away; but checked himself at once, remembering that there was nowhere\n",
      "else he could go, and that he had had another object also in coming.\n",
      "\n",
      "“Hand it over,” he said roughly.\n",
      "\n",
      "The old woman fumbled in her pocket for her keys, and disappeared behind\n",
      "the curtain into the other room. The young man, left standing alone in\n",
      "the middle of the room, listened inquisitively, thinking. He could hear\n",
      "her unlocking the chest of drawers.\n",
      "\n",
      "“It must be the top drawer,” he reflected. “So she carries the keys in\n",
      "a pocket on the right. All in one bunch on a steel ring.... And there’s\n",
      "one key there, three times as big as all the others, with deep notches;\n",
      "that can’t be the key of the chest of drawers... then there must be some\n",
      "other chest or strong-box... that’s worth knowing. Strong-boxes always\n",
      "have keys like that... but how degrading it all is.”\n",
      "\n",
      "The old woman came back.\n",
      "\n",
      "“Here, sir: as we say ten copecks the rouble a month, so I must take\n",
      "fifteen copecks from a rouble and a half for the month in advance. But\n",
      "for the two roubles I lent you before, you owe me now twenty copecks\n",
      "on the same reckoning in advance. That makes thirty-five copecks\n",
      "altogether. So I must give you a rouble and fifteen copecks for the\n",
      "watch. Here it is.”\n",
      "\n",
      "“What! only a rouble and fifteen copecks now!”\n",
      "\n",
      "“Just so.”\n",
      "\n",
      "The young man did not dispute it and took the money. He looked at the\n",
      "old woman, and was in no hurry to get away, as though there was still\n",
      "something he wanted to say or to do, but he did not himself quite know\n",
      "what.\n",
      "\n",
      "“I may be bringing you something else in a day or two, Alyona\n",
      "Ivanovna--a valuable thing--silver--a cigarette-box, as soon as I get it\n",
      "back from a friend...” he broke off in confusion.\n",
      "\n",
      "“Well, we will talk about it then, sir.”\n",
      "\n",
      "“Good-bye--are you always at home alone, your sister is not here with\n",
      "you?” He asked her as casually as possible as he went out into the\n",
      "passage.\n",
      "\n",
      "“What business is she of yours, my good sir?”\n",
      "\n",
      "“Oh, nothing particular, I simply asked. You are too quick.... Good-day,\n",
      "Alyona Ivanovna.”\n",
      "\n",
      "Raskolnikov went out in complete confusion. This confusion became more\n",
      "and more intense. As he went down the stairs, he even stopped short, two\n",
      "or three times, as though suddenly struck by some thought. When he was\n",
      "in the street he cried out, “Oh, God, how loathsome it all is! and\n",
      "can I, can I possibly.... No, it’s nonsense, it’s rubbish!” he added\n",
      "resolutely. “And how could such an atrocious thing come into my head?\n",
      "What filthy things my heart is capable of. Yes, filthy above all,\n",
      "disgusting, loathsome, loathsome!--and for a whole month I’ve been....”\n",
      " But no words, no exclamations, could express his agitation. The feeling\n",
      "of intense repulsion, which had begun to oppress and torture his heart\n",
      "while he was on his way to the old woman, had by now reached such a\n",
      "pitch and had taken such a definite form that he did not know what to\n",
      "do with himself to escape from his wretchedness. He walked along the\n",
      "pavement like a drunken man, regardless of the passers-by, and jostling\n",
      "against them, and only came to his senses when he was in the next\n",
      "street. Looking round, he noticed that he was standing close to a tavern\n",
      "which was entered by steps leading from the pavement to the basement.\n",
      "At that instant two drunken men came out at the door, and abusing and\n",
      "supporting one another, they mounted the steps. Without stopping to\n",
      "think, Raskolnikov went down the steps at once. Till that moment he had\n",
      "never been into a tavern, but now he felt giddy and was tormented by a\n",
      "burning thirst. He longed for a drink of cold beer, and attributed his\n",
      "sudden weakness to the want of food. He sat down at a sticky little\n",
      "table in a dark and dirty corner; ordered some beer, and eagerly drank\n",
      "off the first glassful. At once he felt easier; and his thoughts became\n",
      "clear.\n",
      "\n",
      "“All that’s nonsense,” he said hopefully, “and there is nothing in it\n",
      "all to worry about! It’s simply physical derangement. Just a glass of\n",
      "beer, a piece of dry bread--and in one moment the brain is stronger,\n",
      "the mind is clearer and the will is firm! Phew, how utterly petty it all\n",
      "is!”\n",
      "\n",
      "But in spite of this scornful reflection, he was by now looking cheerful\n",
      "as though he were suddenly set free from a terrible burden: and he gazed\n",
      "round in a friendly way at the people in the room. But even at that\n",
      "moment he had a dim foreboding that this happier frame of mind was also\n",
      "not normal.\n",
      "\n",
      "There were few people at the time in the tavern. Besides the two drunken\n",
      "men he had met on the steps, a group consisting of about five men and\n",
      "a girl with a concertina had gone out at the same time. Their departure\n",
      "left the room quiet and rather empty. The persons still in the tavern\n",
      "were a man who appeared to be an artisan, drunk, but not extremely so,\n",
      "sitting before a pot of beer, and his companion, a huge, stout man with\n",
      "a grey beard, in a short full-skirted coat. He was very drunk: and had\n",
      "dropped asleep on the bench; every now and then, he began as though in\n",
      "his sleep, cracking his fingers, with his arms wide apart and the upper\n",
      "part of his body bounding about on the bench, while he hummed some\n",
      "meaningless refrain, trying to recall some such lines as these:\n",
      "\n",
      "   “His wife a year he fondly loved\n",
      "    His wife a--a year he--fondly loved.”\n",
      "\n",
      "Or suddenly waking up again:\n",
      "\n",
      "   “Walking along the crowded row\n",
      "    He met the one he used to know.”\n",
      "\n",
      "But no one shared his enjoyment: his silent companion looked with\n",
      "positive hostility and mistrust at all these manifestations. There was\n",
      "another man in the room who looked somewhat like a retired government\n",
      "clerk. He was sitting apart, now and then sipping from his pot and\n",
      "looking round at the company. He, too, appeared to be in some agitation.\n"
     ]
    }
   ],
   "source": [
    "f = open('2554-0.txt')\n",
    "raw = f.read()\n",
    "chapter_one = raw[5464:23725]\n",
    "print(chapter_one)"
   ]
  },
  {
   "cell_type": "markdown",
   "id": "aba8b86e",
   "metadata": {},
   "source": [
    "As you will notice this reads texts in as single strings. As discussed before we usually want to represent sentences in a way that reflects word boundaries. The simplest way to do it is to split on spaces. As we will see there are all sorts of problems with doing this, but for now we'll ignore that and use a built in string function split(). In order to make sure it deals with full stops as we would like we will also use the replace function to separate them from the ends of words."
   ]
  },
  {
   "cell_type": "code",
   "execution_count": 27,
   "id": "6a290b73",
   "metadata": {},
   "outputs": [
    {
     "name": "stdout",
     "output_type": "stream",
     "text": [
      "['On', 'an', 'exceptionally', 'hot', 'evening', 'early', 'in', 'July', 'a', 'young', 'man', 'came', 'out', 'of', 'the', 'garret', 'in', 'which', 'he', 'lodged', 'in', 'S', '.', 'Place', 'and', 'walked', 'slowly,', 'as', 'though', 'in', 'hesitation,', 'towards', 'K', '.', 'bridge', '.', 'He', 'had', 'successfully', 'avoided', 'meeting', 'his', 'landlady', 'on', 'the', 'staircase', '.', 'His', 'garret', 'was', 'under', 'the', 'roof', 'of', 'a', 'high,', 'five-storied', 'house', 'and', 'was', 'more', 'like', 'a', 'cupboard', 'than', 'a', 'room', '.', 'The', 'landlady', 'who', 'provided', 'him', 'with', 'garret,', 'dinners,', 'and', 'attendance,', 'lived', 'on', 'the', 'floor', 'below,', 'and', 'every', 'time', 'he', 'went', 'out', 'he', 'was', 'obliged', 'to', 'pass', 'her', 'kitchen,', 'the', 'door', 'of', 'which', 'invariably', 'stood', 'open', '.', 'And', 'each', 'time', 'he', 'passed,', 'the', 'young', 'man', 'had', 'a', 'sick,', 'frightened', 'feeling,', 'which', 'made', 'him', 'scowl', 'and', 'feel', 'ashamed', '.', 'He', 'was', 'hopelessly', 'in', 'debt', 'to', 'his', 'landlady,', 'and', 'was', 'afraid', 'of', 'meeting', 'her', '.', 'This', 'was', 'not', 'because', 'he', 'was', 'cowardly', 'and', 'abject,', 'quite', 'the', 'contrary;', 'but', 'for', 'some', 'time', 'past', 'he', 'had', 'been', 'in', 'an', 'overstrained', 'irritable', 'condition,', 'verging', 'on', 'hypochondria', '.', 'He', 'had', 'become', 'so', 'completely', 'absorbed', 'in', 'himself,', 'and', 'isolated', 'from', 'his', 'fellows', 'that', 'he', 'dreaded', 'meeting,', 'not', 'only', 'his', 'landlady,', 'but', 'anyone', 'at', 'all', '.', 'He', 'was', 'crushed', 'by', 'poverty,', 'but', 'the', 'anxieties', 'of', 'his', 'position', 'had', 'of', 'late', 'ceased', 'to', 'weigh', 'upon', 'him', '.', 'He', 'had', 'given', 'up', 'attending', 'to', 'matters', 'of', 'practical', 'importance;', 'he', 'had', 'lost', 'all', 'desire', 'to', 'do', 'so', '.', 'Nothing', 'that', 'any', 'landlady', 'could', 'do', 'had', 'a', 'real', 'terror', 'for', 'him', '.', 'But', 'to', 'be', 'stopped', 'on', 'the', 'stairs,', 'to', 'be', 'forced', 'to', 'listen', 'to', 'her', 'trivial,', 'irrelevant', 'gossip,', 'to', 'pestering', 'demands', 'for', 'payment,', 'threats', 'and', 'complaints,', 'and', 'to', 'rack', 'his', 'brains', 'for', 'excuses,', 'to', 'prevaricate,', 'to', 'lie--no,', 'rather', 'than', 'that,', 'he', 'would', 'creep', 'down', 'the', 'stairs', 'like', 'a', 'cat', 'and', 'slip', 'out', 'unseen', '.', 'This', 'evening,', 'however,', 'on', 'coming', 'out', 'into', 'the', 'street,', 'he', 'became', 'acutely', 'aware', 'of', 'his', 'fears', '.', '“I', 'want', 'to', 'attempt', 'a', 'thing', '_like', 'that_', 'and', 'am', 'frightened', 'by', 'these', 'trifles,”', 'he', 'thought,', 'with', 'an', 'odd', 'smile', '.', '“Hm', '.', '.', '.', 'yes,', 'all', 'is', 'in', 'a', 'man’s', 'hands', 'and', 'he', 'lets', 'it', 'all', 'slip', 'from', 'cowardice,', 'that’s', 'an', 'axiom', '.', 'It', 'would', 'be', 'interesting', 'to', 'know', 'what', 'it', 'is', 'men', 'are', 'most', 'afraid', 'of', '.', 'Taking', 'a', 'new', 'step,', 'uttering', 'a', 'new', 'word', 'is', 'what', 'they', 'fear', 'most', '.', '.', '.', '.', 'But', 'I', 'am', 'talking', 'too', 'much', '.', 'It’s', 'because', 'I', 'chatter', 'that', 'I', 'do', 'nothing', '.', 'Or', 'perhaps', 'it', 'is', 'that', 'I', 'chatter', 'because', 'I', 'do', 'nothing', '.', 'I’ve', 'learned', 'to', 'chatter', 'this', 'last', 'month,', 'lying', 'for', 'days', 'together', 'in', 'my', 'den', 'thinking', '.', '.', '.', 'of', 'Jack', 'the', 'Giant-killer', '.', 'Why', 'am', 'I', 'going', 'there', 'now?', 'Am', 'I', 'capable', 'of', '_that_?', 'Is', '_that_', 'serious?', 'It', 'is', 'not', 'serious', 'at', 'all', '.', 'It’s', 'simply', 'a', 'fantasy', 'to', 'amuse', 'myself;', 'a', 'plaything!', 'Yes,', 'maybe', 'it', 'is', 'a', 'plaything', '.”', 'The', 'heat', 'in', 'the', 'street', 'was', 'terrible:', 'and', 'the', 'airlessness,', 'the', 'bustle', 'and', 'the', 'plaster,', 'scaffolding,', 'bricks,', 'and', 'dust', 'all', 'about', 'him,', 'and', 'that', 'special', 'Petersburg', 'stench,', 'so', 'familiar', 'to', 'all', 'who', 'are', 'unable', 'to', 'get', 'out', 'of', 'town', 'in', 'summer--all', 'worked', 'painfully', 'upon', 'the', 'young', 'man’s', 'already', 'overwrought', 'nerves', '.', 'The', 'insufferable', 'stench', 'from', 'the', 'pot-houses,', 'which', 'are', 'particularly', 'numerous', 'in', 'that', 'part', 'of', 'the', 'town,', 'and', 'the', 'drunken', 'men', 'whom', 'he', 'met', 'continually,', 'although', 'it', 'was', 'a', 'working', 'day,', 'completed', 'the', 'revolting', 'misery', 'of', 'the', 'picture', '.', 'An', 'expression', 'of', 'the', 'profoundest', 'disgust', 'gleamed', 'for', 'a', 'moment', 'in', 'the', 'young', 'man’s', 'refined', 'face', '.', 'He', 'was,', 'by', 'the', 'way,', 'exceptionally', 'handsome,', 'above', 'the', 'average', 'in', 'height,', 'slim,', 'well-built,', 'with', 'beautiful', 'dark', 'eyes', 'and', 'dark', 'brown', 'hair', '.', 'Soon', 'he', 'sank', 'into', 'deep', 'thought,', 'or', 'more', 'accurately', 'speaking', 'into', 'a', 'complete', 'blankness', 'of', 'mind;', 'he', 'walked', 'along', 'not', 'observing', 'what', 'was', 'about', 'him', 'and', 'not', 'caring', 'to', 'observe', 'it', '.', 'From', 'time', 'to', 'time,', 'he', 'would', 'mutter', 'something,', 'from', 'the', 'habit', 'of', 'talking', 'to', 'himself,', 'to', 'which', 'he', 'had', 'just', 'confessed', '.', 'At', 'these', 'moments', 'he', 'would', 'become', 'conscious', 'that', 'his', 'ideas', 'were', 'sometimes', 'in', 'a', 'tangle', 'and', 'that', 'he', 'was', 'very', 'weak;', 'for', 'two', 'days', 'he', 'had', 'scarcely', 'tasted', 'food', '.', 'He', 'was', 'so', 'badly', 'dressed', 'that', 'even', 'a', 'man', 'accustomed', 'to', 'shabbiness', 'would', 'have', 'been', 'ashamed', 'to', 'be', 'seen', 'in', 'the', 'street', 'in', 'such', 'rags', '.', 'In', 'that', 'quarter', 'of', 'the', 'town,', 'however,', 'scarcely', 'any', 'shortcoming', 'in', 'dress', 'would', 'have', 'created', 'surprise', '.', 'Owing', 'to', 'the', 'proximity', 'of', 'the', 'Hay', 'Market,', 'the', 'number', 'of', 'establishments', 'of', 'bad', 'character,', 'the', 'preponderance', 'of', 'the', 'trading', 'and', 'working', 'class', 'population', 'crowded', 'in', 'these', 'streets', 'and', 'alleys', 'in', 'the', 'heart', 'of', 'Petersburg,', 'types', 'so', 'various', 'were', 'to', 'be', 'seen', 'in', 'the', 'streets', 'that', 'no', 'figure,', 'however', 'queer,', 'would', 'have', 'caused', 'surprise', '.', 'But', 'there', 'was', 'such', 'accumulated', 'bitterness', 'and', 'contempt', 'in', 'the', 'young', 'man’s', 'heart,', 'that,', 'in', 'spite', 'of', 'all', 'the', 'fastidiousness', 'of', 'youth,', 'he', 'minded', 'his', 'rags', 'least', 'of', 'all', 'in', 'the', 'street', '.', 'It', 'was', 'a', 'different', 'matter', 'when', 'he', 'met', 'with', 'acquaintances', 'or', 'with', 'former', 'fellow', 'students,', 'whom,', 'indeed,', 'he', 'disliked', 'meeting', 'at', 'any', 'time', '.', 'And', 'yet', 'when', 'a', 'drunken', 'man', 'who,', 'for', 'some', 'unknown', 'reason,', 'was', 'being', 'taken', 'somewhere', 'in', 'a', 'huge', 'waggon', 'dragged', 'by', 'a', 'heavy', 'dray', 'horse,', 'suddenly', 'shouted', 'at', 'him', 'as', 'he', 'drove', 'past:', '“Hey', 'there,', 'German', 'hatter”', 'bawling', 'at', 'the', 'top', 'of', 'his', 'voice', 'and', 'pointing', 'at', 'him--the', 'young', 'man', 'stopped', 'suddenly', 'and', 'clutched', 'tremulously', 'at', 'his', 'hat', '.', 'It', 'was', 'a', 'tall', 'round', 'hat', 'from', 'Zimmerman’s,', 'but', 'completely', 'worn', 'out,', 'rusty', 'with', 'age,', 'all', 'torn', 'and', 'bespattered,', 'brimless', 'and', 'bent', 'on', 'one', 'side', 'in', 'a', 'most', 'unseemly', 'fashion', '.', 'Not', 'shame,', 'however,', 'but', 'quite', 'another', 'feeling', 'akin', 'to', 'terror', 'had', 'overtaken', 'him', '.', '“I', 'knew', 'it,”', 'he', 'muttered', 'in', 'confusion,', '“I', 'thought', 'so!', 'That’s', 'the', 'worst', 'of', 'all!', 'Why,', 'a', 'stupid', 'thing', 'like', 'this,', 'the', 'most', 'trivial', 'detail', 'might', 'spoil', 'the', 'whole', 'plan', '.', 'Yes,', 'my', 'hat', 'is', 'too', 'noticeable', '.', '.', '.', '.', 'It', 'looks', 'absurd', 'and', 'that', 'makes', 'it', 'noticeable', '.', '.', '.', '.', 'With', 'my', 'rags', 'I', 'ought', 'to', 'wear', 'a', 'cap,', 'any', 'sort', 'of', 'old', 'pancake,', 'but', 'not', 'this', 'grotesque', 'thing', '.', 'Nobody', 'wears', 'such', 'a', 'hat,', 'it', 'would', 'be', 'noticed', 'a', 'mile', 'off,', 'it', 'would', 'be', 'remembered', '.', '.', '.', '.', 'What', 'matters', 'is', 'that', 'people', 'would', 'remember', 'it,', 'and', 'that', 'would', 'give', 'them', 'a', 'clue', '.', 'For', 'this', 'business', 'one', 'should', 'be', 'as', 'little', 'conspicuous', 'as', 'possible', '.', '.', '.', '.', 'Trifles,', 'trifles', 'are', 'what', 'matter!', 'Why,', 'it’s', 'just', 'such', 'trifles', 'that', 'always', 'ruin', 'everything', '.', '.', '.', '.”', 'He', 'had', 'not', 'far', 'to', 'go;', 'he', 'knew', 'indeed', 'how', 'many', 'steps', 'it', 'was', 'from', 'the', 'gate', 'of', 'his', 'lodging', 'house:', 'exactly', 'seven', 'hundred', 'and', 'thirty', '.', 'He', 'had', 'counted', 'them', 'once', 'when', 'he', 'had', 'been', 'lost', 'in', 'dreams', '.', 'At', 'the', 'time', 'he', 'had', 'put', 'no', 'faith', 'in', 'those', 'dreams', 'and', 'was', 'only', 'tantalising', 'himself', 'by', 'their', 'hideous', 'but', 'daring', 'recklessness', '.', 'Now,', 'a', 'month', 'later,', 'he', 'had', 'begun', 'to', 'look', 'upon', 'them', 'differently,', 'and,', 'in', 'spite', 'of', 'the', 'monologues', 'in', 'which', 'he', 'jeered', 'at', 'his', 'own', 'impotence', 'and', 'indecision,', 'he', 'had', 'involuntarily', 'come', 'to', 'regard', 'this', '“hideous”', 'dream', 'as', 'an', 'exploit', 'to', 'be', 'attempted,', 'although', 'he', 'still', 'did', 'not', 'realise', 'this', 'himself', '.', 'He', 'was', 'positively', 'going', 'now', 'for', 'a', '“rehearsal”', 'of', 'his', 'project,', 'and', 'at', 'every', 'step', 'his', 'excitement', 'grew', 'more', 'and', 'more', 'violent', '.', 'With', 'a', 'sinking', 'heart', 'and', 'a', 'nervous', 'tremor,', 'he', 'went', 'up', 'to', 'a', 'huge', 'house', 'which', 'on', 'one', 'side', 'looked', 'on', 'to', 'the', 'canal,', 'and', 'on', 'the', 'other', 'into', 'the', 'street', '.', 'This', 'house', 'was', 'let', 'out', 'in', 'tiny', 'tenements', 'and', 'was', 'inhabited', 'by', 'working', 'people', 'of', 'all', 'kinds--tailors,', 'locksmiths,', 'cooks,', 'Germans', 'of', 'sorts,', 'girls', 'picking', 'up', 'a', 'living', 'as', 'best', 'they', 'could,', 'petty', 'clerks,', 'etc', '.', 'There', 'was', 'a', 'continual', 'coming', 'and', 'going', 'through', 'the', 'two', 'gates', 'and', 'in', 'the', 'two', 'courtyards', 'of', 'the', 'house', '.', 'Three', 'or', 'four', 'door-keepers', 'were', 'employed', 'on', 'the', 'building', '.', 'The', 'young', 'man', 'was', 'very', 'glad', 'to', 'meet', 'none', 'of', 'them,', 'and', 'at', 'once', 'slipped', 'unnoticed', 'through', 'the', 'door', 'on', 'the', 'right,', 'and', 'up', 'the', 'staircase', '.', 'It', 'was', 'a', 'back', 'staircase,', 'dark', 'and', 'narrow,', 'but', 'he', 'was', 'familiar', 'with', 'it', 'already,', 'and', 'knew', 'his', 'way,', 'and', 'he', 'liked', 'all', 'these', 'surroundings:', 'in', 'such', 'darkness', 'even', 'the', 'most', 'inquisitive', 'eyes', 'were', 'not', 'to', 'be', 'dreaded', '.', '“If', 'I', 'am', 'so', 'scared', 'now,', 'what', 'would', 'it', 'be', 'if', 'it', 'somehow', 'came', 'to', 'pass', 'that', 'I', 'were', 'really', 'going', 'to', 'do', 'it?”', 'he', 'could', 'not', 'help', 'asking', 'himself', 'as', 'he', 'reached', 'the', 'fourth', 'storey', '.', 'There', 'his', 'progress', 'was', 'barred', 'by', 'some', 'porters', 'who', 'were', 'engaged', 'in', 'moving', 'furniture', 'out', 'of', 'a', 'flat', '.', 'He', 'knew', 'that', 'the', 'flat', 'had', 'been', 'occupied', 'by', 'a', 'German', 'clerk', 'in', 'the', 'civil', 'service,', 'and', 'his', 'family', '.', 'This', 'German', 'was', 'moving', 'out', 'then,', 'and', 'so', 'the', 'fourth', 'floor', 'on', 'this', 'staircase', 'would', 'be', 'untenanted', 'except', 'by', 'the', 'old', 'woman', '.', '“That’s', 'a', 'good', 'thing', 'anyway,”', 'he', 'thought', 'to', 'himself,', 'as', 'he', 'rang', 'the', 'bell', 'of', 'the', 'old', 'woman’s', 'flat', '.', 'The', 'bell', 'gave', 'a', 'faint', 'tinkle', 'as', 'though', 'it', 'were', 'made', 'of', 'tin', 'and', 'not', 'of', 'copper', '.', 'The', 'little', 'flats', 'in', 'such', 'houses', 'always', 'have', 'bells', 'that', 'ring', 'like', 'that', '.', 'He', 'had', 'forgotten', 'the', 'note', 'of', 'that', 'bell,', 'and', 'now', 'its', 'peculiar', 'tinkle', 'seemed', 'to', 'remind', 'him', 'of', 'something', 'and', 'to', 'bring', 'it', 'clearly', 'before', 'him', '.', '.', '.', '.', 'He', 'started,', 'his', 'nerves', 'were', 'terribly', 'overstrained', 'by', 'now', '.', 'In', 'a', 'little', 'while,', 'the', 'door', 'was', 'opened', 'a', 'tiny', 'crack:', 'the', 'old', 'woman', 'eyed', 'her', 'visitor', 'with', 'evident', 'distrust', 'through', 'the', 'crack,', 'and', 'nothing', 'could', 'be', 'seen', 'but', 'her', 'little', 'eyes,', 'glittering', 'in', 'the', 'darkness', '.', 'But,', 'seeing', 'a', 'number', 'of', 'people', 'on', 'the', 'landing,', 'she', 'grew', 'bolder,', 'and', 'opened', 'the', 'door', 'wide', '.', 'The', 'young', 'man', 'stepped', 'into', 'the', 'dark', 'entry,', 'which', 'was', 'partitioned', 'off', 'from', 'the', 'tiny', 'kitchen', '.', 'The', 'old', 'woman', 'stood', 'facing', 'him', 'in', 'silence', 'and', 'looking', 'inquiringly', 'at', 'him', '.', 'She', 'was', 'a', 'diminutive,', 'withered', 'up', 'old', 'woman', 'of', 'sixty,', 'with', 'sharp', 'malignant', 'eyes', 'and', 'a', 'sharp', 'little', 'nose', '.', 'Her', 'colourless,', 'somewhat', 'grizzled', 'hair', 'was', 'thickly', 'smeared', 'with', 'oil,', 'and', 'she', 'wore', 'no', 'kerchief', 'over', 'it', '.', 'Round', 'her', 'thin', 'long', 'neck,', 'which', 'looked', 'like', 'a', 'hen’s', 'leg,', 'was', 'knotted', 'some', 'sort', 'of', 'flannel', 'rag,', 'and,', 'in', 'spite', 'of', 'the', 'heat,', 'there', 'hung', 'flapping', 'on', 'her', 'shoulders,', 'a', 'mangy', 'fur', 'cape,', 'yellow', 'with', 'age', '.', 'The', 'old', 'woman', 'coughed', 'and', 'groaned', 'at', 'every', 'instant', '.', 'The', 'young', 'man', 'must', 'have', 'looked', 'at', 'her', 'with', 'a', 'rather', 'peculiar', 'expression,', 'for', 'a', 'gleam', 'of', 'mistrust', 'came', 'into', 'her', 'eyes', 'again', '.', '“Raskolnikov,', 'a', 'student,', 'I', 'came', 'here', 'a', 'month', 'ago,”', 'the', 'young', 'man', 'made', 'haste', 'to', 'mutter,', 'with', 'a', 'half', 'bow,', 'remembering', 'that', 'he', 'ought', 'to', 'be', 'more', 'polite', '.', '“I', 'remember,', 'my', 'good', 'sir,', 'I', 'remember', 'quite', 'well', 'your', 'coming', 'here,”', 'the', 'old', 'woman', 'said', 'distinctly,', 'still', 'keeping', 'her', 'inquiring', 'eyes', 'on', 'his', 'face', '.', '“And', 'here', '.', '.', '.', 'I', 'am', 'again', 'on', 'the', 'same', 'errand,”', 'Raskolnikov', 'continued,', 'a', 'little', 'disconcerted', 'and', 'surprised', 'at', 'the', 'old', 'woman’s', 'mistrust', '.', '“Perhaps', 'she', 'is', 'always', 'like', 'that', 'though,', 'only', 'I', 'did', 'not', 'notice', 'it', 'the', 'other', 'time,”', 'he', 'thought', 'with', 'an', 'uneasy', 'feeling', '.', 'The', 'old', 'woman', 'paused,', 'as', 'though', 'hesitating;', 'then', 'stepped', 'on', 'one', 'side,', 'and', 'pointing', 'to', 'the', 'door', 'of', 'the', 'room,', 'she', 'said,', 'letting', 'her', 'visitor', 'pass', 'in', 'front', 'of', 'her:', '“Step', 'in,', 'my', 'good', 'sir', '.”', 'The', 'little', 'room', 'into', 'which', 'the', 'young', 'man', 'walked,', 'with', 'yellow', 'paper', 'on', 'the', 'walls,', 'geraniums', 'and', 'muslin', 'curtains', 'in', 'the', 'windows,', 'was', 'brightly', 'lighted', 'up', 'at', 'that', 'moment', 'by', 'the', 'setting', 'sun', '.', '“So', 'the', 'sun', 'will', 'shine', 'like', 'this', '_then_', 'too!”', 'flashed', 'as', 'it', 'were', 'by', 'chance', 'through', 'Raskolnikov’s', 'mind,', 'and', 'with', 'a', 'rapid', 'glance', 'he', 'scanned', 'everything', 'in', 'the', 'room,', 'trying', 'as', 'far', 'as', 'possible', 'to', 'notice', 'and', 'remember', 'its', 'arrangement', '.', 'But', 'there', 'was', 'nothing', 'special', 'in', 'the', 'room', '.', 'The', 'furniture,', 'all', 'very', 'old', 'and', 'of', 'yellow', 'wood,', 'consisted', 'of', 'a', 'sofa', 'with', 'a', 'huge', 'bent', 'wooden', 'back,', 'an', 'oval', 'table', 'in', 'front', 'of', 'the', 'sofa,', 'a', 'dressing-table', 'with', 'a', 'looking-glass', 'fixed', 'on', 'it', 'between', 'the', 'windows,', 'chairs', 'along', 'the', 'walls', 'and', 'two', 'or', 'three', 'half-penny', 'prints', 'in', 'yellow', 'frames,', 'representing', 'German', 'damsels', 'with', 'birds', 'in', 'their', 'hands--that', 'was', 'all', '.', 'In', 'the', 'corner', 'a', 'light', 'was', 'burning', 'before', 'a', 'small', 'ikon', '.', 'Everything', 'was', 'very', 'clean;', 'the', 'floor', 'and', 'the', 'furniture', 'were', 'brightly', 'polished;', 'everything', 'shone', '.', '“Lizaveta’s', 'work,”', 'thought', 'the', 'young', 'man', '.', 'There', 'was', 'not', 'a', 'speck', 'of', 'dust', 'to', 'be', 'seen', 'in', 'the', 'whole', 'flat', '.', '“It’s', 'in', 'the', 'houses', 'of', 'spiteful', 'old', 'widows', 'that', 'one', 'finds', 'such', 'cleanliness,”', 'Raskolnikov', 'thought', 'again,', 'and', 'he', 'stole', 'a', 'curious', 'glance', 'at', 'the', 'cotton', 'curtain', 'over', 'the', 'door', 'leading', 'into', 'another', 'tiny', 'room,', 'in', 'which', 'stood', 'the', 'old', 'woman’s', 'bed', 'and', 'chest', 'of', 'drawers', 'and', 'into', 'which', 'he', 'had', 'never', 'looked', 'before', '.', 'These', 'two', 'rooms', 'made', 'up', 'the', 'whole', 'flat', '.', '“What', 'do', 'you', 'want?”', 'the', 'old', 'woman', 'said', 'severely,', 'coming', 'into', 'the', 'room', 'and,', 'as', 'before,', 'standing', 'in', 'front', 'of', 'him', 'so', 'as', 'to', 'look', 'him', 'straight', 'in', 'the', 'face', '.', '“I’ve', 'brought', 'something', 'to', 'pawn', 'here,”', 'and', 'he', 'drew', 'out', 'of', 'his', 'pocket', 'an', 'old-fashioned', 'flat', 'silver', 'watch,', 'on', 'the', 'back', 'of', 'which', 'was', 'engraved', 'a', 'globe;', 'the', 'chain', 'was', 'of', 'steel', '.', '“But', 'the', 'time', 'is', 'up', 'for', 'your', 'last', 'pledge', '.', 'The', 'month', 'was', 'up', 'the', 'day', 'before', 'yesterday', '.”', '“I', 'will', 'bring', 'you', 'the', 'interest', 'for', 'another', 'month;', 'wait', 'a', 'little', '.”', '“But', 'that’s', 'for', 'me', 'to', 'do', 'as', 'I', 'please,', 'my', 'good', 'sir,', 'to', 'wait', 'or', 'to', 'sell', 'your', 'pledge', 'at', 'once', '.”', '“How', 'much', 'will', 'you', 'give', 'me', 'for', 'the', 'watch,', 'Alyona', 'Ivanovna?”', '“You', 'come', 'with', 'such', 'trifles,', 'my', 'good', 'sir,', 'it’s', 'scarcely', 'worth', 'anything', '.', 'I', 'gave', 'you', 'two', 'roubles', 'last', 'time', 'for', 'your', 'ring', 'and', 'one', 'could', 'buy', 'it', 'quite', 'new', 'at', 'a', 'jeweler’s', 'for', 'a', 'rouble', 'and', 'a', 'half', '.”', '“Give', 'me', 'four', 'roubles', 'for', 'it,', 'I', 'shall', 'redeem', 'it,', 'it', 'was', 'my', 'father’s', '.', 'I', 'shall', 'be', 'getting', 'some', 'money', 'soon', '.”', '“A', 'rouble', 'and', 'a', 'half,', 'and', 'interest', 'in', 'advance,', 'if', 'you', 'like!”', '“A', 'rouble', 'and', 'a', 'half!”', 'cried', 'the', 'young', 'man', '.', '“Please', 'yourself”--and', 'the', 'old', 'woman', 'handed', 'him', 'back', 'the', 'watch', '.', 'The', 'young', 'man', 'took', 'it,', 'and', 'was', 'so', 'angry', 'that', 'he', 'was', 'on', 'the', 'point', 'of', 'going', 'away;', 'but', 'checked', 'himself', 'at', 'once,', 'remembering', 'that', 'there', 'was', 'nowhere', 'else', 'he', 'could', 'go,', 'and', 'that', 'he', 'had', 'had', 'another', 'object', 'also', 'in', 'coming', '.', '“Hand', 'it', 'over,”', 'he', 'said', 'roughly', '.', 'The', 'old', 'woman', 'fumbled', 'in', 'her', 'pocket', 'for', 'her', 'keys,', 'and', 'disappeared', 'behind', 'the', 'curtain', 'into', 'the', 'other', 'room', '.', 'The', 'young', 'man,', 'left', 'standing', 'alone', 'in', 'the', 'middle', 'of', 'the', 'room,', 'listened', 'inquisitively,', 'thinking', '.', 'He', 'could', 'hear', 'her', 'unlocking', 'the', 'chest', 'of', 'drawers', '.', '“It', 'must', 'be', 'the', 'top', 'drawer,”', 'he', 'reflected', '.', '“So', 'she', 'carries', 'the', 'keys', 'in', 'a', 'pocket', 'on', 'the', 'right', '.', 'All', 'in', 'one', 'bunch', 'on', 'a', 'steel', 'ring', '.', '.', '.', '.', 'And', 'there’s', 'one', 'key', 'there,', 'three', 'times', 'as', 'big', 'as', 'all', 'the', 'others,', 'with', 'deep', 'notches;', 'that', 'can’t', 'be', 'the', 'key', 'of', 'the', 'chest', 'of', 'drawers', '.', '.', '.', 'then', 'there', 'must', 'be', 'some', 'other', 'chest', 'or', 'strong-box', '.', '.', '.', 'that’s', 'worth', 'knowing', '.', 'Strong-boxes', 'always', 'have', 'keys', 'like', 'that', '.', '.', '.', 'but', 'how', 'degrading', 'it', 'all', 'is', '.”', 'The', 'old', 'woman', 'came', 'back', '.', '“Here,', 'sir:', 'as', 'we', 'say', 'ten', 'copecks', 'the', 'rouble', 'a', 'month,', 'so', 'I', 'must', 'take', 'fifteen', 'copecks', 'from', 'a', 'rouble', 'and', 'a', 'half', 'for', 'the', 'month', 'in', 'advance', '.', 'But', 'for', 'the', 'two', 'roubles', 'I', 'lent', 'you', 'before,', 'you', 'owe', 'me', 'now', 'twenty', 'copecks', 'on', 'the', 'same', 'reckoning', 'in', 'advance', '.', 'That', 'makes', 'thirty-five', 'copecks', 'altogether', '.', 'So', 'I', 'must', 'give', 'you', 'a', 'rouble', 'and', 'fifteen', 'copecks', 'for', 'the', 'watch', '.', 'Here', 'it', 'is', '.”', '“What!', 'only', 'a', 'rouble', 'and', 'fifteen', 'copecks', 'now!”', '“Just', 'so', '.”', 'The', 'young', 'man', 'did', 'not', 'dispute', 'it', 'and', 'took', 'the', 'money', '.', 'He', 'looked', 'at', 'the', 'old', 'woman,', 'and', 'was', 'in', 'no', 'hurry', 'to', 'get', 'away,', 'as', 'though', 'there', 'was', 'still', 'something', 'he', 'wanted', 'to', 'say', 'or', 'to', 'do,', 'but', 'he', 'did', 'not', 'himself', 'quite', 'know', 'what', '.', '“I', 'may', 'be', 'bringing', 'you', 'something', 'else', 'in', 'a', 'day', 'or', 'two,', 'Alyona', 'Ivanovna--a', 'valuable', 'thing--silver--a', 'cigarette-box,', 'as', 'soon', 'as', 'I', 'get', 'it', 'back', 'from', 'a', 'friend', '.', '.', '.”', 'he', 'broke', 'off', 'in', 'confusion', '.', '“Well,', 'we', 'will', 'talk', 'about', 'it', 'then,', 'sir', '.”', '“Good-bye--are', 'you', 'always', 'at', 'home', 'alone,', 'your', 'sister', 'is', 'not', 'here', 'with', 'you?”', 'He', 'asked', 'her', 'as', 'casually', 'as', 'possible', 'as', 'he', 'went', 'out', 'into', 'the', 'passage', '.', '“What', 'business', 'is', 'she', 'of', 'yours,', 'my', 'good', 'sir?”', '“Oh,', 'nothing', 'particular,', 'I', 'simply', 'asked', '.', 'You', 'are', 'too', 'quick', '.', '.', '.', '.', 'Good-day,', 'Alyona', 'Ivanovna', '.”', 'Raskolnikov', 'went', 'out', 'in', 'complete', 'confusion', '.', 'This', 'confusion', 'became', 'more', 'and', 'more', 'intense', '.', 'As', 'he', 'went', 'down', 'the', 'stairs,', 'he', 'even', 'stopped', 'short,', 'two', 'or', 'three', 'times,', 'as', 'though', 'suddenly', 'struck', 'by', 'some', 'thought', '.', 'When', 'he', 'was', 'in', 'the', 'street', 'he', 'cried', 'out,', '“Oh,', 'God,', 'how', 'loathsome', 'it', 'all', 'is!', 'and', 'can', 'I,', 'can', 'I', 'possibly', '.', '.', '.', '.', 'No,', 'it’s', 'nonsense,', 'it’s', 'rubbish!”', 'he', 'added', 'resolutely', '.', '“And', 'how', 'could', 'such', 'an', 'atrocious', 'thing', 'come', 'into', 'my', 'head?', 'What', 'filthy', 'things', 'my', 'heart', 'is', 'capable', 'of', '.', 'Yes,', 'filthy', 'above', 'all,', 'disgusting,', 'loathsome,', 'loathsome!--and', 'for', 'a', 'whole', 'month', 'I’ve', 'been', '.', '.', '.', '.”', 'But', 'no', 'words,', 'no', 'exclamations,', 'could', 'express', 'his', 'agitation', '.', 'The', 'feeling', 'of', 'intense', 'repulsion,', 'which', 'had', 'begun', 'to', 'oppress', 'and', 'torture', 'his', 'heart', 'while', 'he', 'was', 'on', 'his', 'way', 'to', 'the', 'old', 'woman,', 'had', 'by', 'now', 'reached', 'such', 'a', 'pitch', 'and', 'had', 'taken', 'such', 'a', 'definite', 'form', 'that', 'he', 'did', 'not', 'know', 'what', 'to', 'do', 'with', 'himself', 'to', 'escape', 'from', 'his', 'wretchedness', '.', 'He', 'walked', 'along', 'the', 'pavement', 'like', 'a', 'drunken', 'man,', 'regardless', 'of', 'the', 'passers-by,', 'and', 'jostling', 'against', 'them,', 'and', 'only', 'came', 'to', 'his', 'senses', 'when', 'he', 'was', 'in', 'the', 'next', 'street', '.', 'Looking', 'round,', 'he', 'noticed', 'that', 'he', 'was', 'standing', 'close', 'to', 'a', 'tavern', 'which', 'was', 'entered', 'by', 'steps', 'leading', 'from', 'the', 'pavement', 'to', 'the', 'basement', '.', 'At', 'that', 'instant', 'two', 'drunken', 'men', 'came', 'out', 'at', 'the', 'door,', 'and', 'abusing', 'and', 'supporting', 'one', 'another,', 'they', 'mounted', 'the', 'steps', '.', 'Without', 'stopping', 'to', 'think,', 'Raskolnikov', 'went', 'down', 'the', 'steps', 'at', 'once', '.', 'Till', 'that', 'moment', 'he', 'had', 'never', 'been', 'into', 'a', 'tavern,', 'but', 'now', 'he', 'felt', 'giddy', 'and', 'was', 'tormented', 'by', 'a', 'burning', 'thirst', '.', 'He', 'longed', 'for', 'a', 'drink', 'of', 'cold', 'beer,', 'and', 'attributed', 'his', 'sudden', 'weakness', 'to', 'the', 'want', 'of', 'food', '.', 'He', 'sat', 'down', 'at', 'a', 'sticky', 'little', 'table', 'in', 'a', 'dark', 'and', 'dirty', 'corner;', 'ordered', 'some', 'beer,', 'and', 'eagerly', 'drank', 'off', 'the', 'first', 'glassful', '.', 'At', 'once', 'he', 'felt', 'easier;', 'and', 'his', 'thoughts', 'became', 'clear', '.', '“All', 'that’s', 'nonsense,”', 'he', 'said', 'hopefully,', '“and', 'there', 'is', 'nothing', 'in', 'it', 'all', 'to', 'worry', 'about!', 'It’s', 'simply', 'physical', 'derangement', '.', 'Just', 'a', 'glass', 'of', 'beer,', 'a', 'piece', 'of', 'dry', 'bread--and', 'in', 'one', 'moment', 'the', 'brain', 'is', 'stronger,', 'the', 'mind', 'is', 'clearer', 'and', 'the', 'will', 'is', 'firm!', 'Phew,', 'how', 'utterly', 'petty', 'it', 'all', 'is!”', 'But', 'in', 'spite', 'of', 'this', 'scornful', 'reflection,', 'he', 'was', 'by', 'now', 'looking', 'cheerful', 'as', 'though', 'he', 'were', 'suddenly', 'set', 'free', 'from', 'a', 'terrible', 'burden:', 'and', 'he', 'gazed', 'round', 'in', 'a', 'friendly', 'way', 'at', 'the', 'people', 'in', 'the', 'room', '.', 'But', 'even', 'at', 'that', 'moment', 'he', 'had', 'a', 'dim', 'foreboding', 'that', 'this', 'happier', 'frame', 'of', 'mind', 'was', 'also', 'not', 'normal', '.', 'There', 'were', 'few', 'people', 'at', 'the', 'time', 'in', 'the', 'tavern', '.', 'Besides', 'the', 'two', 'drunken', 'men', 'he', 'had', 'met', 'on', 'the', 'steps,', 'a', 'group', 'consisting', 'of', 'about', 'five', 'men', 'and', 'a', 'girl', 'with', 'a', 'concertina', 'had', 'gone', 'out', 'at', 'the', 'same', 'time', '.', 'Their', 'departure', 'left', 'the', 'room', 'quiet', 'and', 'rather', 'empty', '.', 'The', 'persons', 'still', 'in', 'the', 'tavern', 'were', 'a', 'man', 'who', 'appeared', 'to', 'be', 'an', 'artisan,', 'drunk,', 'but', 'not', 'extremely', 'so,', 'sitting', 'before', 'a', 'pot', 'of', 'beer,', 'and', 'his', 'companion,', 'a', 'huge,', 'stout', 'man', 'with', 'a', 'grey', 'beard,', 'in', 'a', 'short', 'full-skirted', 'coat', '.', 'He', 'was', 'very', 'drunk:', 'and', 'had', 'dropped', 'asleep', 'on', 'the', 'bench;', 'every', 'now', 'and', 'then,', 'he', 'began', 'as', 'though', 'in', 'his', 'sleep,', 'cracking', 'his', 'fingers,', 'with', 'his', 'arms', 'wide', 'apart', 'and', 'the', 'upper', 'part', 'of', 'his', 'body', 'bounding', 'about', 'on', 'the', 'bench,', 'while', 'he', 'hummed', 'some', 'meaningless', 'refrain,', 'trying', 'to', 'recall', 'some', 'such', 'lines', 'as', 'these:', '“His', 'wife', 'a', 'year', 'he', 'fondly', 'loved', 'His', 'wife', 'a--a', 'year', 'he--fondly', 'loved', '.”', 'Or', 'suddenly', 'waking', 'up', 'again:', '“Walking', 'along', 'the', 'crowded', 'row', 'He', 'met', 'the', 'one', 'he', 'used', 'to', 'know', '.”', 'But', 'no', 'one', 'shared', 'his', 'enjoyment:', 'his', 'silent', 'companion', 'looked', 'with', 'positive', 'hostility', 'and', 'mistrust', 'at', 'all', 'these', 'manifestations', '.', 'There', 'was', 'another', 'man', 'in', 'the', 'room', 'who', 'looked', 'somewhat', 'like', 'a', 'retired', 'government', 'clerk', '.', 'He', 'was', 'sitting', 'apart,', 'now', 'and', 'then', 'sipping', 'from', 'his', 'pot', 'and', 'looking', 'round', 'at', 'the', 'company', '.', 'He,', 'too,', 'appeared', 'to', 'be', 'in', 'some', 'agitation', '.']\n"
     ]
    }
   ],
   "source": [
    "chapter_one = chapter_one.replace(\".\",\" .\")\n",
    "chapter_one_tokens = str.split(chapter_one)\n",
    "print(chapter_one_tokens)"
   ]
  },
  {
   "cell_type": "markdown",
   "id": "85394476",
   "metadata": {},
   "source": [
    "# Iterating/for loops\n",
    "\n",
    "Humans reading texts do so one word at a time. The same is often true for computers. This is most commonly performed using a \"for loop\". This can be straightforwardly implemented for lists. In the following code we iterate through the list printing each entry as we go. Note that the end=\"\" in the print statement tells it to end each printed token with a space rather than a new line which is the default."
   ]
  },
  {
   "cell_type": "code",
   "execution_count": 30,
   "id": "4bb2115a",
   "metadata": {},
   "outputs": [
    {
     "name": "stdout",
     "output_type": "stream",
     "text": [
      "On an exceptionally hot evening early in July a young man came out of the garret in which he lodged in S . Place and walked slowly, as though in hesitation, towards K . bridge . He had successfully avoided meeting his landlady on the staircase . His garret was under the roof of a high, five-storied house and was more like a cupboard than a room . The landlady who provided him with garret, dinners, and attendance, lived on the floor below, and every time he went out he was obliged to pass her kitchen, the door of which invariably stood open . And each time he passed, the young man had a sick, frightened feeling, which made him scowl and feel ashamed . He was hopelessly in debt to his landlady, and was afraid of meeting her . This was not because he was cowardly and abject, quite the contrary; but for some time past he had been in an overstrained irritable condition, verging on hypochondria . He had become so completely absorbed in himself, and isolated from his fellows that he dreaded meeting, not only his landlady, but anyone at all . He was crushed by poverty, but the anxieties of his position had of late ceased to weigh upon him . He had given up attending to matters of practical importance; he had lost all desire to do so . Nothing that any landlady could do had a real terror for him . But to be stopped on the stairs, to be forced to listen to her trivial, irrelevant gossip, to pestering demands for payment, threats and complaints, and to rack his brains for excuses, to prevaricate, to lie--no, rather than that, he would creep down the stairs like a cat and slip out unseen . This evening, however, on coming out into the street, he became acutely aware of his fears . “I want to attempt a thing _like that_ and am frightened by these trifles,” he thought, with an odd smile . “Hm . . . yes, all is in a man’s hands and he lets it all slip from cowardice, that’s an axiom . It would be interesting to know what it is men are most afraid of . Taking a new step, uttering a new word is what they fear most . . . . But I am talking too much . It’s because I chatter that I do nothing . Or perhaps it is that I chatter because I do nothing . I’ve learned to chatter this last month, lying for days together in my den thinking . . . of Jack the Giant-killer . Why am I going there now? Am I capable of _that_? Is _that_ serious? It is not serious at all . It’s simply a fantasy to amuse myself; a plaything! Yes, maybe it is a plaything .” The heat in the street was terrible: and the airlessness, the bustle and the plaster, scaffolding, bricks, and dust all about him, and that special Petersburg stench, so familiar to all who are unable to get out of town in summer--all worked painfully upon the young man’s already overwrought nerves . The insufferable stench from the pot-houses, which are particularly numerous in that part of the town, and the drunken men whom he met continually, although it was a working day, completed the revolting misery of the picture . An expression of the profoundest disgust gleamed for a moment in the young man’s refined face . He was, by the way, exceptionally handsome, above the average in height, slim, well-built, with beautiful dark eyes and dark brown hair . Soon he sank into deep thought, or more accurately speaking into a complete blankness of mind; he walked along not observing what was about him and not caring to observe it . From time to time, he would mutter something, from the habit of talking to himself, to which he had just confessed . At these moments he would become conscious that his ideas were sometimes in a tangle and that he was very weak; for two days he had scarcely tasted food . He was so badly dressed that even a man accustomed to shabbiness would have been ashamed to be seen in the street in such rags . In that quarter of the town, however, scarcely any shortcoming in dress would have created surprise . Owing to the proximity of the Hay Market, the number of establishments of bad character, the preponderance of the trading and working class population crowded in these streets and alleys in the heart of Petersburg, types so various were to be seen in the streets that no figure, however queer, would have caused surprise . But there was such accumulated bitterness and contempt in the young man’s heart, that, in spite of all the fastidiousness of youth, he minded his rags least of all in the street . It was a different matter when he met with acquaintances or with former fellow students, whom, indeed, he disliked meeting at any time . And yet when a drunken man who, for some unknown reason, was being taken somewhere in a huge waggon dragged by a heavy dray horse, suddenly shouted at him as he drove past: “Hey there, German hatter” bawling at the top of his voice and pointing at him--the young man stopped suddenly and clutched tremulously at his hat . It was a tall round hat from Zimmerman’s, but completely worn out, rusty with age, all torn and bespattered, brimless and bent on one side in a most unseemly fashion . Not shame, however, but quite another feeling akin to terror had overtaken him . “I knew it,” he muttered in confusion, “I thought so! That’s the worst of all! Why, a stupid thing like this, the most trivial detail might spoil the whole plan . Yes, my hat is too noticeable . . . . It looks absurd and that makes it noticeable . . . . With my rags I ought to wear a cap, any sort of old pancake, but not this grotesque thing . Nobody wears such a hat, it would be noticed a mile off, it would be remembered . . . . What matters is that people would remember it, and that would give them a clue . For this business one should be as little conspicuous as possible . . . . Trifles, trifles are what matter! Why, it’s just such trifles that always ruin everything . . . .” He had not far to go; he knew indeed how many steps it was from the gate of his lodging house: exactly seven hundred and thirty . He had counted them once when he had been lost in dreams . At the time he had put no faith in those dreams and was only tantalising himself by their hideous but daring recklessness . Now, a month later, he had begun to look upon them differently, and, in spite of the monologues in which he jeered at his own impotence and indecision, he had involuntarily come to regard this “hideous” dream as an exploit to be attempted, although he still did not realise this himself . He was positively going now for a “rehearsal” of his project, and at every step his excitement grew more and more violent . With a sinking heart and a nervous tremor, he went up to a huge house which on one side looked on to the canal, and on the other into the street . This house was let out in tiny tenements and was inhabited by working people of all kinds--tailors, locksmiths, cooks, Germans of sorts, girls picking up a living as best they could, petty clerks, etc . There was a continual coming and going through the two gates and in the two courtyards of the house . Three or four door-keepers were employed on the building . The young man was very glad to meet none of them, and at once slipped unnoticed through the door on the right, and up the staircase . It was a back staircase, dark and narrow, but he was familiar with it already, and knew his way, and he liked all these surroundings: in such darkness even the most inquisitive eyes were not to be dreaded . “If I am so scared now, what would it be if it somehow came to pass that I were really going to do it?” he could not help asking himself as he reached the fourth storey . There his progress was barred by some porters who were engaged in moving furniture out of a flat . He knew that the flat had been occupied by a German clerk in the civil service, and his family . This German was moving out then, and so the fourth floor on this staircase would be untenanted except by the old woman . “That’s a good thing anyway,” he thought to himself, as he rang the bell of the old woman’s flat . The bell gave a faint tinkle as though it were made of tin and not of copper . The little flats in such houses always have bells that ring like that . He had forgotten the note of that bell, and now its peculiar tinkle seemed to remind him of something and to bring it clearly before him . . . . He started, his nerves were terribly overstrained by now . In a little while, the door was opened a tiny crack: the old woman eyed her visitor with evident distrust through the crack, and nothing could be seen but her little eyes, glittering in the darkness . But, seeing a number of people on the landing, she grew bolder, and opened the door wide . The young man stepped into the dark entry, which was partitioned off from the tiny kitchen . The old woman stood facing him in silence and looking inquiringly at him . She was a diminutive, withered up old woman of sixty, with sharp malignant eyes and a sharp little nose . Her colourless, somewhat grizzled hair was thickly smeared with oil, and she wore no kerchief over it . Round her thin long neck, which looked like a hen’s leg, was knotted some sort of flannel rag, and, in spite of the heat, there hung flapping on her shoulders, a mangy fur cape, yellow with age . The old woman coughed and groaned at every instant . The young man must have looked at her with a rather peculiar expression, for a gleam of mistrust came into her eyes again . “Raskolnikov, a student, I came here a month ago,” the young man made haste to mutter, with a half bow, remembering that he ought to be more polite . “I remember, my good sir, I remember quite well your coming here,” the old woman said distinctly, still keeping her inquiring eyes on his face . “And here . . . I am again on the same errand,” Raskolnikov continued, a little disconcerted and surprised at the old woman’s mistrust . “Perhaps she is always like that though, only I did not notice it the other time,” he thought with an uneasy feeling . The old woman paused, as though hesitating; then stepped on one side, and pointing to the door of the room, she said, letting her visitor pass in front of her: “Step in, my good sir .” The little room into which the young man walked, with yellow paper on the walls, geraniums and muslin curtains in the windows, was brightly lighted up at that moment by the setting sun . “So the sun will shine like this _then_ too!” flashed as it were by chance through Raskolnikov’s mind, and with a rapid glance he scanned everything in the room, trying as far as possible to notice and remember its arrangement . But there was nothing special in the room . The furniture, all very old and of yellow wood, consisted of a sofa with a huge bent wooden back, an oval table in front of the sofa, a dressing-table with a looking-glass fixed on it between the windows, chairs along the walls and two or three half-penny prints in yellow frames, representing German damsels with birds in their hands--that was all . In the corner a light was burning before a small ikon . Everything was very clean; the floor and the furniture were brightly polished; everything shone . “Lizaveta’s work,” thought the young man . There was not a speck of dust to be seen in the whole flat . “It’s in the houses of spiteful old widows that one finds such cleanliness,” Raskolnikov thought again, and he stole a curious glance at the cotton curtain over the door leading into another tiny room, in which stood the old woman’s bed and chest of drawers and into which he had never looked before . These two rooms made up the whole flat . “What do you want?” the old woman said severely, coming into the room and, as before, standing in front of him so as to look him straight in the face . “I’ve brought something to pawn here,” and he drew out of his pocket an old-fashioned flat silver watch, on the back of which was engraved a globe; the chain was of steel . “But the time is up for your last pledge . The month was up the day before yesterday .” “I will bring you the interest for another month; wait a little .” “But that’s for me to do as I please, my good sir, to wait or to sell your pledge at once .” “How much will you give me for the watch, Alyona Ivanovna?” “You come with such trifles, my good sir, it’s scarcely worth anything . I gave you two roubles last time for your ring and one could buy it quite new at a jeweler’s for a rouble and a half .” “Give me four roubles for it, I shall redeem it, it was my father’s . I shall be getting some money soon .” “A rouble and a half, and interest in advance, if you like!” “A rouble and a half!” cried the young man . “Please yourself”--and the old woman handed him back the watch . The young man took it, and was so angry that he was on the point of going away; but checked himself at once, remembering that there was nowhere else he could go, and that he had had another object also in coming . “Hand it over,” he said roughly . The old woman fumbled in her pocket for her keys, and disappeared behind the curtain into the other room . The young man, left standing alone in the middle of the room, listened inquisitively, thinking . He could hear her unlocking the chest of drawers . “It must be the top drawer,” he reflected . “So she carries the keys in a pocket on the right . All in one bunch on a steel ring . . . . And there’s one key there, three times as big as all the others, with deep notches; that can’t be the key of the chest of drawers . . . then there must be some other chest or strong-box . . . that’s worth knowing . Strong-boxes always have keys like that . . . but how degrading it all is .” The old woman came back . “Here, sir: as we say ten copecks the rouble a month, so I must take fifteen copecks from a rouble and a half for the month in advance . But for the two roubles I lent you before, you owe me now twenty copecks on the same reckoning in advance . That makes thirty-five copecks altogether . So I must give you a rouble and fifteen copecks for the watch . Here it is .” “What! only a rouble and fifteen copecks now!” “Just so .” The young man did not dispute it and took the money . He looked at the old woman, and was in no hurry to get away, as though there was still something he wanted to say or to do, but he did not himself quite know what . “I may be bringing you something else in a day or two, Alyona Ivanovna--a valuable thing--silver--a cigarette-box, as soon as I get it back from a friend . . .” he broke off in confusion . “Well, we will talk about it then, sir .” “Good-bye--are you always at home alone, your sister is not here with you?” He asked her as casually as possible as he went out into the passage . “What business is she of yours, my good sir?” “Oh, nothing particular, I simply asked . You are too quick . . . . Good-day, Alyona Ivanovna .” Raskolnikov went out in complete confusion . This confusion became more and more intense . As he went down the stairs, he even stopped short, two or three times, as though suddenly struck by some thought . When he was in the street he cried out, “Oh, God, how loathsome it all is! and can I, can I possibly . . . . No, it’s nonsense, it’s rubbish!” he added resolutely . “And how could such an atrocious thing come into my head? What filthy things my heart is capable of . Yes, filthy above all, disgusting, loathsome, loathsome!--and for a whole month I’ve been . . . .” But no words, no exclamations, could express his agitation . The feeling of intense repulsion, which had begun to oppress and torture his heart while he was on his way to the old woman, had by now reached such a pitch and had taken such a definite form that he did not know what to do with himself to escape from his wretchedness . He walked along the pavement like a drunken man, regardless of the passers-by, and jostling against them, and only came to his senses when he was in the next street . Looking round, he noticed that he was standing close to a tavern which was entered by steps leading from the pavement to the basement . At that instant two drunken men came out at the door, and abusing and supporting one another, they mounted the steps . Without stopping to think, Raskolnikov went down the steps at once . Till that moment he had never been into a tavern, but now he felt giddy and was tormented by a burning thirst . He longed for a drink of cold beer, and attributed his sudden weakness to the want of food . He sat down at a sticky little table in a dark and dirty corner; ordered some beer, and eagerly drank off the first glassful . At once he felt easier; and his thoughts became clear . “All that’s nonsense,” he said hopefully, “and there is nothing in it all to worry about! It’s simply physical derangement . Just a glass of beer, a piece of dry bread--and in one moment the brain is stronger, the mind is clearer and the will is firm! Phew, how utterly petty it all is!” But in spite of this scornful reflection, he was by now looking cheerful as though he were suddenly set free from a terrible burden: and he gazed round in a friendly way at the people in the room . But even at that moment he had a dim foreboding that this happier frame of mind was also not normal . There were few people at the time in the tavern . Besides the two drunken men he had met on the steps, a group consisting of about five men and a girl with a concertina had gone out at the same time . Their departure left the room quiet and rather empty . The persons still in the tavern were a man who appeared to be an artisan, drunk, but not extremely so, sitting before a pot of beer, and his companion, a huge, stout man with a grey beard, in a short full-skirted coat . He was very drunk: and had dropped asleep on the bench; every now and then, he began as though in his sleep, cracking his fingers, with his arms wide apart and the upper part of his body bounding about on the bench, while he hummed some meaningless refrain, trying to recall some such lines as these: “His wife a year he fondly loved His wife a--a year he--fondly loved .” Or suddenly waking up again: “Walking along the crowded row He met the one he used to know .” But no one shared his enjoyment: his silent companion looked with positive hostility and mistrust at all these manifestations . There was another man in the room who looked somewhat like a retired government clerk . He was sitting apart, now and then sipping from his pot and looking round at the company . He, too, appeared to be in some agitation . "
     ]
    }
   ],
   "source": [
    "for word in chapter_one_tokens:\n",
    "    print(word, end=\" \")"
   ]
  },
  {
   "cell_type": "markdown",
   "id": "15f92b70",
   "metadata": {},
   "source": [
    "You will notice that in the loop above the print statement is indented. We say that a statement that occurs within a loop is nested within that loop. Any statement that is nested inside another has to be indented in Python. The standard way to indent is to use 4 spaces, although you can also use a tab. \n",
    "\n",
    "One way in which we might use a for loop is to count things. This can be performed as follows."
   ]
  },
  {
   "cell_type": "code",
   "execution_count": 2,
   "id": "c98155bd",
   "metadata": {},
   "outputs": [
    {
     "ename": "NameError",
     "evalue": "name 'chapter_one_tokens' is not defined",
     "output_type": "error",
     "traceback": [
      "\u001b[0;31m---------------------------------------------------------------------------\u001b[0m",
      "\u001b[0;31mNameError\u001b[0m                                 Traceback (most recent call last)",
      "\u001b[0;32m/tmp/ipykernel_9187/13731820.py\u001b[0m in \u001b[0;36m<module>\u001b[0;34m\u001b[0m\n\u001b[1;32m      1\u001b[0m \u001b[0mk\u001b[0m\u001b[0;34m=\u001b[0m\u001b[0;36m0\u001b[0m\u001b[0;34m\u001b[0m\u001b[0;34m\u001b[0m\u001b[0m\n\u001b[0;32m----> 2\u001b[0;31m \u001b[0;32mfor\u001b[0m \u001b[0mword\u001b[0m \u001b[0;32min\u001b[0m \u001b[0mchapter_one_tokens\u001b[0m\u001b[0;34m:\u001b[0m\u001b[0;34m\u001b[0m\u001b[0;34m\u001b[0m\u001b[0m\n\u001b[0m\u001b[1;32m      3\u001b[0m     \u001b[0mk\u001b[0m\u001b[0;34m=\u001b[0m\u001b[0mk\u001b[0m\u001b[0;34m+\u001b[0m\u001b[0;36m1\u001b[0m\u001b[0;34m\u001b[0m\u001b[0;34m\u001b[0m\u001b[0m\n\u001b[1;32m      4\u001b[0m \u001b[0mprint\u001b[0m\u001b[0;34m(\u001b[0m\u001b[0mk\u001b[0m\u001b[0;34m)\u001b[0m\u001b[0;34m\u001b[0m\u001b[0;34m\u001b[0m\u001b[0m\n",
      "\u001b[0;31mNameError\u001b[0m: name 'chapter_one_tokens' is not defined"
     ]
    }
   ],
   "source": [
    "k=0\n",
    "for word in chapter_one_tokens:\n",
    "    k=k+1\n",
    "print(k)"
   ]
  },
  {
   "cell_type": "markdown",
   "id": "9e5a7a8a",
   "metadata": {},
   "source": [
    "# Booleans and Conditionals\n",
    "\n",
    "In addition to ints, floats and strings a data type that you will use a lot is the boolean. A boolean can have just two values, true or false. In order to see how this arises, it'll be useful to introduce the equality operator \"==\". When used between two element a and b it asks whether they are equal. For example:"
   ]
  },
  {
   "cell_type": "code",
   "execution_count": null,
   "id": "707d9832",
   "metadata": {},
   "outputs": [],
   "source": [
    "2==2"
   ]
  },
  {
   "cell_type": "code",
   "execution_count": null,
   "id": "ce56a860",
   "metadata": {},
   "outputs": [],
   "source": [
    "2==3"
   ]
  },
  {
   "cell_type": "code",
   "execution_count": null,
   "id": "1a91600b",
   "metadata": {},
   "outputs": [],
   "source": [
    "chapter_one_tokens[0] == \"On\""
   ]
  },
  {
   "cell_type": "code",
   "execution_count": null,
   "id": "27773fbe",
   "metadata": {},
   "outputs": [],
   "source": [
    "chapter_one_tokens[0] == \"a\""
   ]
  },
  {
   "cell_type": "markdown",
   "id": "1bc3d162",
   "metadata": {},
   "source": [
    "We can similarly check whether two elements are unequal using the operator \"!=\".\n",
    "\n",
    "Other familar comparison operators like less than < and greater than > are also available and also return booleans that indicate whether a statement holds."
   ]
  },
  {
   "cell_type": "code",
   "execution_count": null,
   "id": "590040ee",
   "metadata": {},
   "outputs": [],
   "source": [
    "2 > 1"
   ]
  },
  {
   "cell_type": "markdown",
   "id": "52fda2d2",
   "metadata": {},
   "source": [
    "The way in which you will most frequently encounter booleans is in if statements. This can be used to control the computer's behaviour based on whether a particular condition holds. For example:"
   ]
  },
  {
   "cell_type": "code",
   "execution_count": null,
   "id": "2f74038e",
   "metadata": {},
   "outputs": [],
   "source": [
    "if chapter_one_tokens[0] == \"On\":\n",
    "    print(chapter_one_tokens[0])"
   ]
  },
  {
   "cell_type": "code",
   "execution_count": null,
   "id": "32f669e8",
   "metadata": {},
   "outputs": [],
   "source": [
    "if chapter_one_tokens[0] != \"a\":\n",
    "    print(chapter_one_tokens[0])"
   ]
  },
  {
   "cell_type": "markdown",
   "id": "f8f2d36d",
   "metadata": {},
   "source": [
    "Combining this with a for loop of the kind we saw above we can read through the sentences and find all the instances of a particular word. "
   ]
  },
  {
   "cell_type": "code",
   "execution_count": null,
   "id": "db0b9f8b",
   "metadata": {},
   "outputs": [],
   "source": [
    "k=0\n",
    "for token in chapter_one_tokens:\n",
    "    if token == \"a\":\n",
    "        k = k+1\n",
    "print(k)"
   ]
  },
  {
   "cell_type": "markdown",
   "id": "71b13820",
   "metadata": {},
   "source": [
    "As well as nesting statements inside \"if\" statements so that they are only actioned if a condition holds, we can use an \"else\" statement to tell the computer what to do if the condition doesn't hold. This immediately follows the if statement, indented so that it lines up vertically with the if statement with which it is paired. So for example we can add to the code immediately above in order to also count tokens that are not \"a\", as follows:"
   ]
  },
  {
   "cell_type": "code",
   "execution_count": null,
   "id": "331bc7f4",
   "metadata": {},
   "outputs": [],
   "source": [
    "k=0\n",
    "j=0\n",
    "for token in chapter_one_tokens:\n",
    "    if token == \"a\":\n",
    "        k = k+1\n",
    "    else:\n",
    "        j = j+1\n",
    "print(\"indefinite article count: \" + str(k))\n",
    "print(\"other token count: \" + str(j))"
   ]
  },
  {
   "cell_type": "markdown",
   "id": "1344f88a",
   "metadata": {},
   "source": [
    "Activity: Use a for loop to print out the text as we did above but try to print each sentence on a new line. For simplicity let's assume (wrongly as we will see) that all sentences end with a \".\" character."
   ]
  },
  {
   "cell_type": "code",
   "execution_count": null,
   "id": "798bc514",
   "metadata": {},
   "outputs": [],
   "source": []
  }
 ],
 "metadata": {
  "kernelspec": {
   "display_name": "Python 3 (ipykernel)",
   "language": "python",
   "name": "python3"
  },
  "language_info": {
   "codemirror_mode": {
    "name": "ipython",
    "version": 3
   },
   "file_extension": ".py",
   "mimetype": "text/x-python",
   "name": "python",
   "nbconvert_exporter": "python",
   "pygments_lexer": "ipython3",
   "version": "3.8.12"
  }
 },
 "nbformat": 4,
 "nbformat_minor": 5
}
