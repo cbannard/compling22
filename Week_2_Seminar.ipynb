{
 "cells": [
  {
   "cell_type": "markdown",
   "id": "ada7675f",
   "metadata": {},
   "source": [
    "# LELA32051 Computational Linguistics Week 2"
   ]
  },
  {
   "cell_type": "markdown",
   "id": "59c58486",
   "metadata": {},
   "source": [
    "## Tokenisation and Morphology\n",
    "\n",
    "In this week's session we are going to look at a tool that is crucial in implementing the preprocessing tasks introduced in the lecture - regular expressions.\n"
   ]
  },
  {
   "cell_type": "markdown",
   "id": "3a659d6d",
   "metadata": {},
   "source": [
    "### Regular Expressions"
   ]
  },
  {
   "cell_type": "markdown",
   "id": "e8f6fcae",
   "metadata": {},
   "source": [
    "Last week we used functions that belong to the datatype string to manipulate text. This week we are going to explore a much more powerful way of manipulating text - the regular expression. In order to do this we need to import the regular expressions library (https://docs.python.org/3/library/re.html):"
   ]
  },
  {
   "cell_type": "code",
   "execution_count": null,
   "id": "7b4e577d",
   "metadata": {},
   "outputs": [],
   "source": [
    "import re"
   ]
  },
  {
   "cell_type": "markdown",
   "id": "23259638",
   "metadata": {},
   "source": [
    "### re.findall()\n",
    "One very useful function in the re package is re.findall() - this searches for occurences of a pattern in a given string. It takes a regular expression to search for, between quotes, as its first argument and a string to search as its second argument. If it find matches, it returns them in a list:"
   ]
  },
  {
   "cell_type": "code",
   "execution_count": null,
   "id": "c2e719a5",
   "metadata": {},
   "outputs": [],
   "source": [
    "sentence=\"I like both dogs and cats\"\n",
    "re.findall(\"cats\", sentence)"
   ]
  },
  {
   "cell_type": "markdown",
   "id": "90e2559e",
   "metadata": {},
   "source": [
    "Exercise: Based on what you learned about in this weeks lecture rewrite this pattern so that it finds all of the things that the speaker likes:"
   ]
  },
  {
   "cell_type": "code",
   "execution_count": null,
   "id": "69a764a7",
   "metadata": {},
   "outputs": [],
   "source": [
    "re.findall(\"\", sentence)"
   ]
  },
  {
   "cell_type": "markdown",
   "id": "c72f1cd7",
   "metadata": {},
   "source": [
    "Exercise: For this new sentence write a pattern that finds only the things that the speaker likes:"
   ]
  },
  {
   "cell_type": "code",
   "execution_count": null,
   "id": "3ef4d7ac",
   "metadata": {},
   "outputs": [],
   "source": [
    "sentence2=\"I like dogs but not cats\""
   ]
  },
  {
   "cell_type": "code",
   "execution_count": null,
   "id": "e8e2386a",
   "metadata": {},
   "outputs": [],
   "source": [
    "re.findall(\"\", sentence2)"
   ]
  },
  {
   "cell_type": "markdown",
   "id": "815b8799",
   "metadata": {},
   "source": [
    "For this new sentence write a pattern detects all of the things that the speaker likes:"
   ]
  },
  {
   "cell_type": "code",
   "execution_count": null,
   "id": "45383a36",
   "metadata": {},
   "outputs": [],
   "source": [
    "sentence3=\"I like dogs, cats and rabbits\""
   ]
  },
  {
   "cell_type": "code",
   "execution_count": null,
   "id": "b1bf09ba",
   "metadata": {},
   "outputs": [],
   "source": [
    "re.findall(\"\", sentence3)"
   ]
  },
  {
   "cell_type": "markdown",
   "id": "8726769c",
   "metadata": {},
   "source": [
    "For this new sentence detect all past tense forms of verbs:"
   ]
  },
  {
   "cell_type": "code",
   "execution_count": null,
   "id": "1d57f1c6",
   "metadata": {},
   "outputs": [],
   "source": [
    "sentence4=\"I wanted some exercise so I walked to work today\""
   ]
  },
  {
   "cell_type": "code",
   "execution_count": null,
   "id": "85ef7420",
   "metadata": {},
   "outputs": [],
   "source": [
    "re.findall(\"\", sentence4)"
   ]
  },
  {
   "cell_type": "markdown",
   "id": "f6af4edd",
   "metadata": {},
   "source": [
    "Do the same for sentence 5:"
   ]
  },
  {
   "cell_type": "code",
   "execution_count": null,
   "id": "1938ec36",
   "metadata": {},
   "outputs": [],
   "source": [
    "sentence5=\"I wanted some exercise so I walked to work today and was tired afterwards\""
   ]
  },
  {
   "cell_type": "code",
   "execution_count": null,
   "id": "1e59d214",
   "metadata": {},
   "outputs": [],
   "source": [
    "re.findall(\"\", sentence4)"
   ]
  },
  {
   "cell_type": "markdown",
   "id": "dd639fea-ee32-420b-9dc9-3eeebaf760d8",
   "metadata": {},
   "source": [
    "New function: len() is a built-in Python function that tells use the length of various data types and structures including strings and lists: "
   ]
  },
  {
   "cell_type": "code",
   "execution_count": null,
   "id": "00965e09-5ce8-4d85-aaff-1aca7109ffb5",
   "metadata": {},
   "outputs": [],
   "source": [
    "len(sentence5)"
   ]
  },
  {
   "cell_type": "markdown",
   "id": "9ad4f2df-d489-4629-ad67-42e47f1a1bfb",
   "metadata": {},
   "source": [
    "Exercise: Use the len function together with findall in order to count occurences of words in sentence 5 that end in \"ed\"."
   ]
  },
  {
   "cell_type": "code",
   "execution_count": null,
   "id": "17da41e2-4214-4bb1-af18-cf0e2a48e6af",
   "metadata": {},
   "outputs": [],
   "source": []
  },
  {
   "cell_type": "markdown",
   "id": "559c5b61-2875-4c5e-805e-064b0e7311bb",
   "metadata": {},
   "source": [
    "### re.compile()"
   ]
  },
  {
   "cell_type": "markdown",
   "id": "3610cb9f-f6ea-4ab3-8ad9-59c225502a84",
   "metadata": {},
   "source": [
    "For patterns that we want to use again and again we can use the function re.compile(). This returns a re \"object\" that has all of the re functions. "
   ]
  },
  {
   "cell_type": "code",
   "execution_count": null,
   "id": "0a557eb5-5b56-4f90-9fde-f65e8e30200a",
   "metadata": {},
   "outputs": [],
   "source": [
    "past_tense = re.compile(\"ed\")\n",
    "print(past_tense.findall(sentence5))"
   ]
  },
  {
   "cell_type": "markdown",
   "id": "ba4d8356-c163-4392-bfaf-97630b7497fe",
   "metadata": {},
   "source": [
    "### re.sub()"
   ]
  },
  {
   "cell_type": "markdown",
   "id": "82c3dabf-a023-49f5-90fb-8709d218f78e",
   "metadata": {},
   "source": [
    "Another very useful function is re.sub. This finds all occurences of a given sequence and replaces it with a sequence provided:"
   ]
  },
  {
   "cell_type": "code",
   "execution_count": null,
   "id": "61b85ce6-e8cd-4eb3-904b-42c47c28a8b5",
   "metadata": {},
   "outputs": [],
   "source": [
    "print(re.sub('ed','ing',sentence5))"
   ]
  },
  {
   "cell_type": "markdown",
   "id": "af9dfd45-d384-4e6e-ace8-56b54da6462e",
   "metadata": {},
   "source": [
    "Activity: Write a regular expression or series of regular expression to translate this first sentence of \"Crime and Punishment\" from past to present tense."
   ]
  },
  {
   "cell_type": "code",
   "execution_count": null,
   "id": "ff0974f6-9a71-48fb-9b7d-e8d6b70ab3e9",
   "metadata": {
    "scrolled": true
   },
   "outputs": [],
   "source": [
    "opening_sentence = \"On an exceptionally hot evening early in July a young man came out of the garret in which he lodged in S. Place and walked slowly, as though in hesitation, towards K. bridge.\"\n",
    "print(opening_sentence)"
   ]
  },
  {
   "cell_type": "code",
   "execution_count": null,
   "id": "2b5cbb25-55f3-4f56-843a-7695409575db",
   "metadata": {},
   "outputs": [],
   "source": []
  },
  {
   "cell_type": "markdown",
   "id": "a1dbb833-d727-4406-b841-00f593e0a7e7",
   "metadata": {},
   "source": [
    "### Groups"
   ]
  },
  {
   "cell_type": "markdown",
   "id": "c2d91273-4d07-444b-b80b-9e1ab940241d",
   "metadata": {},
   "source": [
    "Grouping is a very powerful technique for picking out substrings from a string that matches a specified pattern. It is done using parentheses. The function groups() can be used to get a list of the substrings (technically a tuple which is like a list but immutable meaning that the element cannot be changed once created)."
   ]
  },
  {
   "cell_type": "code",
   "execution_count": null,
   "id": "c95a71b8-0d7e-4ece-99a2-5eace6b15e42",
   "metadata": {},
   "outputs": [],
   "source": [
    "re.findall(\"(.*)(s)\", \"cats\")"
   ]
  },
  {
   "cell_type": "markdown",
   "id": "7d20a12a",
   "metadata": {},
   "source": [
    "Exercise: In this example grouping has separated a single noun from the plural marking -s. Rewrite the pattern so that it finds and similarly separates all plural nouns in sentence 3: "
   ]
  },
  {
   "cell_type": "code",
   "execution_count": null,
   "id": "0594d6e9",
   "metadata": {},
   "outputs": [],
   "source": [
    "sentence3=\"I like dogs, cats and rabbits\""
   ]
  },
  {
   "cell_type": "code",
   "execution_count": null,
   "id": "598a18ad",
   "metadata": {},
   "outputs": [],
   "source": [
    "re.findall(\"(.*)(s)\", sentence3)"
   ]
  },
  {
   "cell_type": "markdown",
   "id": "8a2a53eb-c5c4-429e-8d73-21d7ff1e2cbe",
   "metadata": {},
   "source": [
    "### Combining sub with groups"
   ]
  },
  {
   "cell_type": "markdown",
   "id": "19c0c473-2545-415d-8bb1-e27821356e82",
   "metadata": {},
   "source": [
    "The re.sub function and grouping become particularly powerful when they are combined. You can use parentheses to capture a particular substring within a pattern and then use it in your replacement string within sub. For example:"
   ]
  },
  {
   "cell_type": "code",
   "execution_count": null,
   "id": "3bf039b0-73da-496b-9b3e-a686ced9a2d5",
   "metadata": {},
   "outputs": [],
   "source": [
    "print(re.sub('([a-z]+)ed','\\\\1ing',sentence5))"
   ]
  },
  {
   "cell_type": "markdown",
   "id": "bf484c75-7507-4451-a5c0-2add4f37a970",
   "metadata": {},
   "source": [
    "Activity: Use sub combined with groups to convert the sentence \"man bites dog\" into \"dog bites man\""
   ]
  },
  {
   "cell_type": "code",
   "execution_count": null,
   "id": "2fca864a-617b-447a-9a43-bcd3277475c9",
   "metadata": {},
   "outputs": [],
   "source": [
    "sentence = \"man bites dog\""
   ]
  },
  {
   "cell_type": "markdown",
   "id": "23a48f48-3846-4888-af3a-157ef6b7bc2a",
   "metadata": {},
   "source": [
    "Activity: Use sub combined with groups to convert the sentence \"man strokes dog\" into \"dog is stroked by man\""
   ]
  },
  {
   "cell_type": "code",
   "execution_count": null,
   "id": "e54b5b83-c85d-4551-8d2a-cde206df151e",
   "metadata": {},
   "outputs": [],
   "source": []
  },
  {
   "cell_type": "markdown",
   "id": "88c2c1c7-993d-4338-97dd-d3c33c49cc4f",
   "metadata": {},
   "source": [
    "### re.split()"
   ]
  },
  {
   "cell_type": "markdown",
   "id": "b1ba8578-45c9-498d-be68-5c6dc4af2c18",
   "metadata": {},
   "source": [
    "Last week we learned to tokenise a string using the string function split. re also has a split function.\n",
    "re.split() takes a regular expression as a first argument (unless you have a precompiled pattern) and a string as second argument, and split the string into tokens divided by all substrings matched by the regular expression. To test this let's import text (note: I have added a line to remove \\n characters):"
   ]
  },
  {
   "cell_type": "code",
   "execution_count": null,
   "id": "0af7bbc8",
   "metadata": {},
   "outputs": [],
   "source": [
    "!wget https://www.gutenberg.org/files/2554/2554-0.txt \n",
    "f = open('2554-0.txt')\n",
    "raw = f.read()\n",
    "chapter_one = raw[5464:23725]\n",
    "chapter_one = re.sub('\\n',' ',chapter_one)"
   ]
  },
  {
   "cell_type": "markdown",
   "id": "43a6cf77",
   "metadata": {},
   "source": [
    "Exercise: Can you improve on the tokenizer below?"
   ]
  },
  {
   "cell_type": "code",
   "execution_count": null,
   "id": "c924581e-f6a3-4aee-85f2-b057d521e944",
   "metadata": {},
   "outputs": [],
   "source": [
    "to_split_on = re.compile(\" \")\n",
    "chapter_one_tokens_new = to_split_on.split(chapter_one)\n",
    "print(chapter_one_tokens_new)"
   ]
  },
  {
   "cell_type": "markdown",
   "id": "5397d1df-cb85-45b0-b02d-3eda67c2863c",
   "metadata": {},
   "source": [
    "### Escaping special characters"
   ]
  },
  {
   "cell_type": "markdown",
   "id": "4e158957-aa5e-497b-837e-bc42a74f263f",
   "metadata": {},
   "source": [
    "We have learned about a number of character that have a special meaning in regular expressions (periods, dollar signs etc). We might sometimes want to search for these characters in strings. To do this we can \"escape\" the character using a backslash(\\) as follows:"
   ]
  },
  {
   "cell_type": "code",
   "execution_count": null,
   "id": "6f56db94-2465-462b-a01a-0d1d18918c5f",
   "metadata": {},
   "outputs": [],
   "source": [
    "re.findall(\"\\.\",chapter_one)"
   ]
  },
  {
   "cell_type": "markdown",
   "id": "1a8e6896-0712-491e-9343-518b186cb3b2",
   "metadata": {},
   "source": [
    "Exercise: Can we use the functions and techniques we have learned about so far in order to build a functioning sentence segmenter?"
   ]
  },
  {
   "cell_type": "code",
   "execution_count": null,
   "id": "3946d476-6fdd-46e4-937c-2cbef76ab5ce",
   "metadata": {},
   "outputs": [],
   "source": []
  },
  {
   "cell_type": "markdown",
   "id": "e06cf589-4bd6-4803-96cf-ed86a34d5011",
   "metadata": {},
   "source": [
    "Exercise: Can we use the functions and techniques we have learned about so far in order to build a functioning lemmatizer?"
   ]
  },
  {
   "cell_type": "code",
   "execution_count": null,
   "id": "58086b07-69d9-4f58-ae04-acb2d5587255",
   "metadata": {},
   "outputs": [],
   "source": []
  }
 ],
 "metadata": {
  "kernelspec": {
   "display_name": "Python 3",
   "language": "python",
   "name": "python3"
  },
  "language_info": {
   "codemirror_mode": {
    "name": "ipython",
    "version": 3
   },
   "file_extension": ".py",
   "mimetype": "text/x-python",
   "name": "python",
   "nbconvert_exporter": "python",
   "pygments_lexer": "ipython3",
   "version": "3.8.8"
  }
 },
 "nbformat": 4,
 "nbformat_minor": 5
}
