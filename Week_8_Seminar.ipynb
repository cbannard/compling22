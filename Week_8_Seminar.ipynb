{
 "cells": [
  {
   "cell_type": "markdown",
   "id": "f67beb86",
   "metadata": {
    "id": "d0007b03"
   },
   "source": [
    "# LELA32051 Computational Linguistics Week 8\n",
    "\n",
    "This week we are going first to take a look at the challenge of machine translation.\n",
    "\n",
    "We'll look at German-to-English MT. Here is a set of sentences - the s stands for source and the t for target. Hopefully the translations here will be somewhat transparent to you. The only thing that might not be obvious is the use of \"ja\". This means \"yes\" in some context but is also use to mean something like \"certainly\". So \"das haus ist ja gros\" could be translated as \"the house is certainly big\" but because there isn't a perfect match from ja to certainly it tends to just be omitted in English translation as it is here."
   ]
  },
  {
   "cell_type": "code",
   "execution_count": null,
   "id": "3558f84d",
   "metadata": {
    "id": "0a93d59e"
   },
   "outputs": [],
   "source": [
    "s1='klein ist das haus '\n",
    "t1='the house is small '\n",
    "s2='das haus ist ja groß '\n",
    "t2='the house is big '\n",
    "s3='ja das buch ist klein '\n",
    "t3='yes the book is small '\n",
    "s4='das haus '\n",
    "t4='the house '\n",
    "s5='ein buch '\n",
    "t5='a book '"
   ]
  },
  {
   "cell_type": "markdown",
   "id": "046d8898",
   "metadata": {
    "id": "09cfecba"
   },
   "source": [
    "We are going to use the now very familiar re.sub function to perform translation first. \n",
    "The g2e function takes German as input and should output English.\n",
    "\n",
    "Its translation is performed using a series of re.sub functions.\n",
    "\n",
    "First let's take a really naive approach."
   ]
  },
  {
   "cell_type": "code",
   "execution_count": null,
   "id": "eea8d326",
   "metadata": {
    "id": "8da4f265"
   },
   "outputs": [],
   "source": [
    "import re"
   ]
  },
  {
   "cell_type": "code",
   "execution_count": null,
   "id": "97f9d62e",
   "metadata": {
    "id": "49d89bb0"
   },
   "outputs": [],
   "source": [
    "def g2e(out):\n",
    "    re.UNICODE\n",
    "    out=re.sub(\"klein \",\"small \",out)\n",
    "    out=re.sub(\"ist \",\"is \",out)\n",
    "    out=re.sub(\"das \",\"the \",out)\n",
    "    out=re.sub(\"haus \",\"house \",out)\n",
    "    out=re.sub(\"groß \",\"big \",out)\n",
    "    out=re.sub(\"buch \",\"book \",out)\n",
    "    out=re.sub(\"ein \",\"a \",out)\n",
    "    out=re.sub(\"ja \",\"yes \",out)\n",
    "    \n",
    "    return out\n"
   ]
  },
  {
   "cell_type": "code",
   "execution_count": null,
   "id": "0a935fa5",
   "metadata": {
    "id": "8dbdb9fe"
   },
   "outputs": [],
   "source": [
    "print(g2e(s1) + \"\\n\" + g2e(s2)  + \"\\n\" + g2e(s3)  + \"\\n\" + g2e(s4)  + \"\\n\" + g2e(s5))\n"
   ]
  },
  {
   "cell_type": "markdown",
   "id": "f4133082",
   "metadata": {
    "id": "09a1cb45"
   },
   "source": [
    "That didn't work well. Your job is to change the rules so that the function returns the correct translation.\n",
    "\n",
    "To make your job easier I have marked the part of speech using the following tags, based on what an automatic part of speech tagger would do (we'll look at these and how they work next week).\n",
    "\n",
    "ADJ : adjective\n",
    "AUX : auxiliary verb\n",
    "ART : article/determiner\n",
    "N : noun\n",
    "ADV : adverb\n",
    "\n",
    "You can make use of the tags by matching them and their associated words like this:\n",
    "\n",
    "[^ ]+_ART\n",
    "\n",
    "so if you wrote\n",
    "\n",
    "re.sub(\"([^ ]+)_ART\",\\\\1,out)\n",
    "\n",
    "then it would return an article without its tag."
   ]
  },
  {
   "cell_type": "code",
   "execution_count": null,
   "id": "3ab5e84f",
   "metadata": {
    "id": "d193a1f4"
   },
   "outputs": [],
   "source": [
    "s1='klein_ADJ ist_AUX das_ART haus_N'\n",
    "t1='the house is small'\n",
    "s2='das_ART haus_N ist_AUX ja_ADV groß_ADJ '\n",
    "t2='the house is big '\n",
    "s3='ja_ADV das_ART buch_N ist_AUX klein_ADJ'\n",
    "t3='yes the book is small '\n",
    "s4='das_ART haus_N'\n",
    "t4='the house '\n",
    "s5='ein_ART buch_N'\n",
    "t5='a book '"
   ]
  },
  {
   "cell_type": "code",
   "execution_count": null,
   "id": "7aef0cc9",
   "metadata": {
    "id": "03f3e3f3"
   },
   "outputs": [],
   "source": [
    "def g2e(out):\n",
    "    re.UNICODE\n",
    "    out=re.sub('klein_','small_',out)\n",
    "    out=re.sub('ist_','is_',out)\n",
    "    out=re.sub('das_','the_',out)\n",
    "    out=re.sub('haus_','house_',out)\n",
    "    out=re.sub('ja_','yes_',out)\n",
    "    out=re.sub('groß_','big_',out)\n",
    "    out=re.sub('buch_','book_',out)\n",
    "    out=re.sub('ein_','a_',out)\n",
    "    \n",
    "    out = re.sub(\"_[^ ]+\",\"\",out)\n",
    "    return out\n"
   ]
  },
  {
   "cell_type": "code",
   "execution_count": null,
   "id": "971a6b9f",
   "metadata": {
    "id": "bbfcdd9b"
   },
   "outputs": [],
   "source": [
    "print(g2e(s1) + \"\\n\" + g2e(s2)  + \"\\n\" + g2e(s3)  + \"\\n\" + g2e(s4)  + \"\\n\" + g2e(s5))"
   ]
  },
  {
   "cell_type": "markdown",
   "id": "63b854c4",
   "metadata": {
    "id": "1ca2daea"
   },
   "source": [
    "### Another sentence set to explore \n",
    "\n",
    "Update the below function to translate these sentence pairs in as few a set of rules as possible"
   ]
  },
  {
   "cell_type": "code",
   "execution_count": null,
   "id": "b424ef28",
   "metadata": {
    "id": "0427d139"
   },
   "outputs": [],
   "source": [
    "s1=\"der_ART mann_N hat_AUX fußball_N gespielt_V\"\n",
    "t1=\"the man played football\"\n",
    "s2=\"der_ART mann_N spielt_V fußball_N\" \n",
    "t2=\"the man plays football\"\n",
    "s3=\"der_ART mann_N hat_AUX kartoffeln_N gekocht_V\"\n",
    "t3=\"the man cooked potatoes\"\n",
    "s4=\"der_ART mann_N kocht_V kartoffeln_N\"\n",
    "t4=\"the man cooks potatoes\""
   ]
  },
  {
   "cell_type": "code",
   "execution_count": null,
   "id": "f9399c0c",
   "metadata": {
    "id": "a1d4059f"
   },
   "outputs": [],
   "source": [
    "def g2e(out):\n",
    "    re.UNICODE\n",
    "    out=re.sub('der_','the_',out)\n",
    "    out=re.sub('mann_','man_',out)\n",
    "    out=re.sub('fußball_','football_',out)\n",
    "    out=re.sub('spielt_','plays_',out)\n",
    "    out=re.sub('kocht_','cooks_',out)\n",
    "    out=re.sub('kartoffeln_','potatoes_',out)\n",
    "    \n",
    "    out = re.sub(\"_[^ ]+\",\"\",out)\n",
    "    return out"
   ]
  },
  {
   "cell_type": "code",
   "execution_count": null,
   "id": "53844734",
   "metadata": {
    "id": "833755d0"
   },
   "outputs": [],
   "source": [
    "print(g2e(s1) + \"\\n\" + g2e(s2)  + \"\\n\" + g2e(s3)  + \"\\n\" + g2e(s4)  + \"\\n\")"
   ]
  },
  {
   "cell_type": "markdown",
   "id": "c4f8d761",
   "metadata": {
    "id": "14989ba7"
   },
   "source": [
    "And if you are really feeling brave, try accounting for these too:"
   ]
  },
  {
   "cell_type": "code",
   "execution_count": null,
   "id": "81fc272b",
   "metadata": {
    "id": "a16f1e24"
   },
   "outputs": [],
   "source": [
    "s5=\"der_ART mann_N spielt_V gerne_ADV fußball_N\" \n",
    "t5=\"the man likes playing football\"\n",
    "s6=\"der_ART mann_N hat_AUX gerne_ADV fußball_N gespielt_V\" \n",
    "t6=\"the man liked to play football\""
   ]
  },
  {
   "cell_type": "markdown",
   "id": "e4966dc4",
   "metadata": {
    "id": "817ed081"
   },
   "source": [
    "## Statistical machine translation\n",
    "\n",
    "We will look next at statistical machine translation. NLTK has some built in tools for this that we can make use of."
   ]
  },
  {
   "cell_type": "markdown",
   "id": "f20078e6",
   "metadata": {
    "id": "Qs45147vubnD"
   },
   "source": [
    "To make sure we have latest version of nltk let's install and then restart runtime."
   ]
  },
  {
   "cell_type": "code",
   "execution_count": null,
   "id": "7d031ebc",
   "metadata": {
    "id": "uhyDicLmuZyl"
   },
   "outputs": [],
   "source": [
    "!pip install --user -U nltk"
   ]
  },
  {
   "cell_type": "code",
   "execution_count": null,
   "id": "d5296b31",
   "metadata": {
    "colab": {
     "base_uri": "https://localhost:8080/"
    },
    "executionInfo": {
     "elapsed": 374,
     "status": "ok",
     "timestamp": 1637235481936,
     "user": {
      "displayName": "Colin Bannard",
      "photoUrl": "https://lh3.googleusercontent.com/a-/AOh14Ggu3NcIkMWzsy6zxo7AXqwviYA_hgjuzVq_zKWseQ=s64",
      "userId": "01716265927303848317"
     },
     "user_tz": 0
    },
    "id": "f73ed8a0",
    "outputId": "0332d703-ab37-4092-f6ac-7c1bf4bcacf0"
   },
   "outputs": [],
   "source": [
    "import nltk\n",
    "nltk.download('punkt')\n",
    "import math\n",
    "from nltk import AlignedSent\n",
    "from nltk import IBMModel3"
   ]
  },
  {
   "cell_type": "markdown",
   "id": "73d121b3",
   "metadata": {
    "id": "f0ad6711"
   },
   "source": [
    "### Build a translation table\n",
    "\n",
    "We start by performing alignment and building a translation table"
   ]
  },
  {
   "cell_type": "code",
   "execution_count": null,
   "id": "436a15f7",
   "metadata": {
    "executionInfo": {
     "elapsed": 348,
     "status": "ok",
     "timestamp": 1637235881773,
     "user": {
      "displayName": "Colin Bannard",
      "photoUrl": "https://lh3.googleusercontent.com/a-/AOh14Ggu3NcIkMWzsy6zxo7AXqwviYA_hgjuzVq_zKWseQ=s64",
      "userId": "01716265927303848317"
     },
     "user_tz": 0
    },
    "id": "8cee791a"
   },
   "outputs": [],
   "source": [
    "s1='klein ist das haus'\n",
    "t1='the house is small'\n",
    "s2='das haus ist ja groß'\n",
    "t2='the house is big'\n",
    "s3='das buch ist klein'\n",
    "t3='the book is small'\n",
    "s4='das buch'\n",
    "t4='the book'\n",
    "s4='das house'\n",
    "t4='the house'"
   ]
  },
  {
   "cell_type": "code",
   "execution_count": null,
   "id": "df909497",
   "metadata": {
    "executionInfo": {
     "elapsed": 361,
     "status": "ok",
     "timestamp": 1637235883694,
     "user": {
      "displayName": "Colin Bannard",
      "photoUrl": "https://lh3.googleusercontent.com/a-/AOh14Ggu3NcIkMWzsy6zxo7AXqwviYA_hgjuzVq_zKWseQ=s64",
      "userId": "01716265927303848317"
     },
     "user_tz": 0
    },
    "id": "a7513e15"
   },
   "outputs": [],
   "source": [
    "parallel_corpus = []\n",
    "parallel_corpus.append(AlignedSent(nltk.word_tokenize(s1),nltk.word_tokenize(t1)))\n",
    "parallel_corpus.append(AlignedSent(nltk.word_tokenize(s2),nltk.word_tokenize(t2)))\n",
    "parallel_corpus.append(AlignedSent(nltk.word_tokenize(s3),nltk.word_tokenize(t3)))\n",
    "parallel_corpus.append(AlignedSent(nltk.word_tokenize(s4),nltk.word_tokenize(t4)))"
   ]
  },
  {
   "cell_type": "code",
   "execution_count": null,
   "id": "0036531c",
   "metadata": {
    "executionInfo": {
     "elapsed": 398,
     "status": "ok",
     "timestamp": 1637235885258,
     "user": {
      "displayName": "Colin Bannard",
      "photoUrl": "https://lh3.googleusercontent.com/a-/AOh14Ggu3NcIkMWzsy6zxo7AXqwviYA_hgjuzVq_zKWseQ=s64",
      "userId": "01716265927303848317"
     },
     "user_tz": 0
    },
    "id": "5e95b542"
   },
   "outputs": [],
   "source": [
    "ibm3 = IBMModel3(parallel_corpus, 50)"
   ]
  },
  {
   "cell_type": "code",
   "execution_count": null,
   "id": "ed35a053",
   "metadata": {
    "colab": {
     "base_uri": "https://localhost:8080/"
    },
    "executionInfo": {
     "elapsed": 338,
     "status": "ok",
     "timestamp": 1637235886885,
     "user": {
      "displayName": "Colin Bannard",
      "photoUrl": "https://lh3.googleusercontent.com/a-/AOh14Ggu3NcIkMWzsy6zxo7AXqwviYA_hgjuzVq_zKWseQ=s64",
      "userId": "01716265927303848317"
     },
     "user_tz": 0
    },
    "id": "9cc528c3",
    "outputId": "8b9b7233-dab6-453b-b06c-a239b41dda9d"
   },
   "outputs": [],
   "source": [
    "ibm3.translation_table['haus']"
   ]
  },
  {
   "cell_type": "markdown",
   "id": "2565389e",
   "metadata": {
    "id": "4Wnqvawd0adg"
   },
   "source": [
    "You can download and train on a larger aligned corpus by running this code (but beware it will take quite a while):\n",
    "\n",
    "import nltk <br>\n",
    "nltk.download('comtrans') <br>\n",
    "ende=comtrans.aligned_sents('alignment-de-en.txt') <br>\n",
    "ende_subset = ende[1:100] <br>\n",
    "ibm3 = IBMModel3(ende_subset, 2) <br>"
   ]
  },
  {
   "cell_type": "code",
   "execution_count": null,
   "id": "3d0d9a30",
   "metadata": {
    "executionInfo": {
     "elapsed": 308,
     "status": "ok",
     "timestamp": 1637235894573,
     "user": {
      "displayName": "Colin Bannard",
      "photoUrl": "https://lh3.googleusercontent.com/a-/AOh14Ggu3NcIkMWzsy6zxo7AXqwviYA_hgjuzVq_zKWseQ=s64",
      "userId": "01716265927303848317"
     },
     "user_tz": 0
    },
    "id": "85d547b7"
   },
   "outputs": [],
   "source": [
    "phrase_table = nltk.translate.PhraseTable()\n",
    "for triple in ibm3.translation_table.items():\n",
    "      for i in triple[1].items():\n",
    "            phrase_table.add((triple[0],),(i[0],),math.log(i[1]))\n",
    "    "
   ]
  },
  {
   "cell_type": "code",
   "execution_count": null,
   "id": "09f93b45",
   "metadata": {
    "colab": {
     "base_uri": "https://localhost:8080/"
    },
    "executionInfo": {
     "elapsed": 367,
     "status": "ok",
     "timestamp": 1637235799241,
     "user": {
      "displayName": "Colin Bannard",
      "photoUrl": "https://lh3.googleusercontent.com/a-/AOh14Ggu3NcIkMWzsy6zxo7AXqwviYA_hgjuzVq_zKWseQ=s64",
      "userId": "01716265927303848317"
     },
     "user_tz": 0
    },
    "id": "a9213b1b",
    "outputId": "aa1d73fb-dd38-4f95-d4b8-23e3ce91758a"
   },
   "outputs": [],
   "source": [
    "phrase_table.translations_for(('ist',))"
   ]
  },
  {
   "cell_type": "markdown",
   "id": "daa04f8f",
   "metadata": {
    "id": "69bd99a2"
   },
   "source": [
    "### Build a probabilistic language model\n",
    "\n",
    "We will use the collected works of Jane Austen here, but in real systems you would want to use a larger and more representative corpus."
   ]
  },
  {
   "cell_type": "code",
   "execution_count": null,
   "id": "dad1862e",
   "metadata": {
    "colab": {
     "base_uri": "https://localhost:8080/"
    },
    "executionInfo": {
     "elapsed": 9942,
     "status": "ok",
     "timestamp": 1637233654251,
     "user": {
      "displayName": "Colin Bannard",
      "photoUrl": "https://lh3.googleusercontent.com/a-/AOh14Ggu3NcIkMWzsy6zxo7AXqwviYA_hgjuzVq_zKWseQ=s64",
      "userId": "01716265927303848317"
     },
     "user_tz": 0
    },
    "id": "8ee95857",
    "outputId": "61eb397c-c9c3-4f10-9864-9853b7a99221"
   },
   "outputs": [],
   "source": [
    "!wget https://www.gutenberg.org/files/31100/31100.txt    \n",
    "f = open('31100.txt',\"r\",encoding='windows-1252')\n",
    "text = f.read()  \n",
    "text = text + \"\\n\" + t1 + \"\\n\" + t2 + \"\\n\" + t3 + \"\\n\" + t4 + \"\\n\" + t5 + \"\\n\"\n",
    "tokenized_text = [list(map(str.lower, nltk.word_tokenize(sent))) \n",
    "                  for sent in nltk.sent_tokenize(text)]"
   ]
  },
  {
   "cell_type": "code",
   "execution_count": null,
   "id": "2fb5897d",
   "metadata": {
    "executionInfo": {
     "elapsed": 345,
     "status": "ok",
     "timestamp": 1637235589662,
     "user": {
      "displayName": "Colin Bannard",
      "photoUrl": "https://lh3.googleusercontent.com/a-/AOh14Ggu3NcIkMWzsy6zxo7AXqwviYA_hgjuzVq_zKWseQ=s64",
      "userId": "01716265927303848317"
     },
     "user_tz": 0
    },
    "id": "e770107b"
   },
   "outputs": [],
   "source": [
    "import nltk.lm.preprocessing\n",
    "n = 3\n",
    "train_data, padded_sents = nltk.lm.preprocessing.padded_everygram_pipeline(n, tokenized_text)"
   ]
  },
  {
   "cell_type": "code",
   "execution_count": null,
   "id": "b0c13a91",
   "metadata": {
    "executionInfo": {
     "elapsed": 289,
     "status": "ok",
     "timestamp": 1637235590927,
     "user": {
      "displayName": "Colin Bannard",
      "photoUrl": "https://lh3.googleusercontent.com/a-/AOh14Ggu3NcIkMWzsy6zxo7AXqwviYA_hgjuzVq_zKWseQ=s64",
      "userId": "01716265927303848317"
     },
     "user_tz": 0
    },
    "id": "268f6764"
   },
   "outputs": [],
   "source": [
    "from nltk.lm import MLE\n",
    "model = MLE(n) "
   ]
  },
  {
   "cell_type": "code",
   "execution_count": null,
   "id": "64259e6c",
   "metadata": {
    "executionInfo": {
     "elapsed": 40197,
     "status": "ok",
     "timestamp": 1637235632180,
     "user": {
      "displayName": "Colin Bannard",
      "photoUrl": "https://lh3.googleusercontent.com/a-/AOh14Ggu3NcIkMWzsy6zxo7AXqwviYA_hgjuzVq_zKWseQ=s64",
      "userId": "01716265927303848317"
     },
     "user_tz": 0
    },
    "id": "a9e6fbf9"
   },
   "outputs": [],
   "source": [
    "model.fit(train_data, padded_sents)\n"
   ]
  },
  {
   "cell_type": "code",
   "execution_count": null,
   "id": "e41ec69b",
   "metadata": {
    "colab": {
     "base_uri": "https://localhost:8080/"
    },
    "executionInfo": {
     "elapsed": 429,
     "status": "ok",
     "timestamp": 1637236466387,
     "user": {
      "displayName": "Colin Bannard",
      "photoUrl": "https://lh3.googleusercontent.com/a-/AOh14Ggu3NcIkMWzsy6zxo7AXqwviYA_hgjuzVq_zKWseQ=s64",
      "userId": "01716265927303848317"
     },
     "user_tz": 0
    },
    "id": "fXfpAJIAu-sw",
    "outputId": "5aa851c2-d11d-41da-9db8-a1ff5f4ac450"
   },
   "outputs": [],
   "source": [
    "model.generate(8)"
   ]
  },
  {
   "cell_type": "code",
   "execution_count": null,
   "id": "9eb9dec4",
   "metadata": {
    "executionInfo": {
     "elapsed": 295,
     "status": "ok",
     "timestamp": 1637235663656,
     "user": {
      "displayName": "Colin Bannard",
      "photoUrl": "https://lh3.googleusercontent.com/a-/AOh14Ggu3NcIkMWzsy6zxo7AXqwviYA_hgjuzVq_zKWseQ=s64",
      "userId": "01716265927303848317"
     },
     "user_tz": 0
    },
    "id": "3347e4ce"
   },
   "outputs": [],
   "source": [
    "from collections import defaultdict\n",
    "language_prob = defaultdict(lambda: -99.0)\n",
    "for t in nltk.ngrams(nltk.word_tokenize(t1 + \" \" + t2 + \" \" + t3 + \" \" + t4),3):\n",
    "    if model.logscore(t[2],[t[0],t[1]]) < 0:\n",
    "        language_prob[t] = model.logscore(t[2],[t[0],t[1]])\n",
    "    else:\n",
    "        language_prob[t] = -999\n",
    "language_model = type('',(object,),{'probability_change': lambda self, context, phrase: language_prob[phrase], 'probability': lambda self, phrase: language_prob[phrase]})()"
   ]
  },
  {
   "cell_type": "code",
   "execution_count": null,
   "id": "dea94e91",
   "metadata": {
    "colab": {
     "base_uri": "https://localhost:8080/"
    },
    "executionInfo": {
     "elapsed": 349,
     "status": "ok",
     "timestamp": 1637235924475,
     "user": {
      "displayName": "Colin Bannard",
      "photoUrl": "https://lh3.googleusercontent.com/a-/AOh14Ggu3NcIkMWzsy6zxo7AXqwviYA_hgjuzVq_zKWseQ=s64",
      "userId": "01716265927303848317"
     },
     "user_tz": 0
    },
    "id": "697f2c53",
    "outputId": "72ebf298-221b-4f43-beee-16b12dc8e02b"
   },
   "outputs": [],
   "source": [
    "language_prob.items()"
   ]
  },
  {
   "cell_type": "markdown",
   "id": "828b0d60",
   "metadata": {
    "id": "cd4c830c"
   },
   "source": [
    "### Combine with translation model to perform decoding\n"
   ]
  },
  {
   "cell_type": "code",
   "execution_count": null,
   "id": "15a6a394",
   "metadata": {
    "executionInfo": {
     "elapsed": 331,
     "status": "ok",
     "timestamp": 1637235902292,
     "user": {
      "displayName": "Colin Bannard",
      "photoUrl": "https://lh3.googleusercontent.com/a-/AOh14Ggu3NcIkMWzsy6zxo7AXqwviYA_hgjuzVq_zKWseQ=s64",
      "userId": "01716265927303848317"
     },
     "user_tz": 0
    },
    "id": "339668a5"
   },
   "outputs": [],
   "source": [
    "stack_decoder = nltk.translate.StackDecoder(phrase_table, language_model)"
   ]
  },
  {
   "cell_type": "code",
   "execution_count": null,
   "id": "ab246ab2",
   "metadata": {
    "executionInfo": {
     "elapsed": 380,
     "status": "ok",
     "timestamp": 1637235904465,
     "user": {
      "displayName": "Colin Bannard",
      "photoUrl": "https://lh3.googleusercontent.com/a-/AOh14Ggu3NcIkMWzsy6zxo7AXqwviYA_hgjuzVq_zKWseQ=s64",
      "userId": "01716265927303848317"
     },
     "user_tz": 0
    },
    "id": "2eadd3c6"
   },
   "outputs": [],
   "source": [
    "stack_decoder.distortion_factor = 1\n",
    "stack_decoder.word_penalty = 0"
   ]
  },
  {
   "cell_type": "code",
   "execution_count": null,
   "id": "7ba822b5",
   "metadata": {
    "colab": {
     "base_uri": "https://localhost:8080/"
    },
    "executionInfo": {
     "elapsed": 306,
     "status": "ok",
     "timestamp": 1637235905688,
     "user": {
      "displayName": "Colin Bannard",
      "photoUrl": "https://lh3.googleusercontent.com/a-/AOh14Ggu3NcIkMWzsy6zxo7AXqwviYA_hgjuzVq_zKWseQ=s64",
      "userId": "01716265927303848317"
     },
     "user_tz": 0
    },
    "id": "e69c9005",
    "outputId": "03581226-bf52-452e-afc1-8e4781285aab"
   },
   "outputs": [],
   "source": [
    "stack_decoder.translate(nltk.word_tokenize(\"das haus ist groß\"))"
   ]
  },
  {
   "cell_type": "code",
   "execution_count": null,
   "id": "064b5564",
   "metadata": {
    "colab": {
     "base_uri": "https://localhost:8080/"
    },
    "executionInfo": {
     "elapsed": 538,
     "status": "ok",
     "timestamp": 1637235910128,
     "user": {
      "displayName": "Colin Bannard",
      "photoUrl": "https://lh3.googleusercontent.com/a-/AOh14Ggu3NcIkMWzsy6zxo7AXqwviYA_hgjuzVq_zKWseQ=s64",
      "userId": "01716265927303848317"
     },
     "user_tz": 0
    },
    "id": "d2cbde71",
    "outputId": "11ee67a1-3ff8-418e-de40-6951d90129d0"
   },
   "outputs": [],
   "source": [
    "stack_decoder.translate(nltk.word_tokenize(\"klein ist das haus\"))"
   ]
  }
 ],
 "metadata": {
  "colab": {
   "collapsed_sections": [],
   "name": "Week_8_Seminar.ipynb",
   "provenance": []
  },
  "kernelspec": {
   "display_name": "Python 3 (ipykernel)",
   "language": "python",
   "name": "python3"
  },
  "language_info": {
   "codemirror_mode": {
    "name": "ipython",
    "version": 3
   },
   "file_extension": ".py",
   "mimetype": "text/x-python",
   "name": "python",
   "nbconvert_exporter": "python",
   "pygments_lexer": "ipython3",
   "version": "3.8.12"
  }
 },
 "nbformat": 4,
 "nbformat_minor": 5
}
