{
 "cells": [
  {
   "cell_type": "markdown",
   "id": "ada7675f",
   "metadata": {
    "id": "ada7675f"
   },
   "source": [
    "# LELA70331 Computational Linguistics Week 3"
   ]
  },
  {
   "cell_type": "markdown",
   "id": "59c58486",
   "metadata": {
    "id": "59c58486"
   },
   "source": [
    "## Tokenisation and Morphology\n",
    "\n",
    "In this week's session we are going to look at a tool that is very useful in implementing the preprocessing tasks introduced in the week 2 lecture - regular expressions.\n"
   ]
  },
  {
   "cell_type": "markdown",
   "id": "3a659d6d",
   "metadata": {
    "id": "3a659d6d"
   },
   "source": [
    "### Regular Expressions"
   ]
  },
  {
   "cell_type": "markdown",
   "id": "e8f6fcae",
   "metadata": {
    "id": "e8f6fcae"
   },
   "source": [
    "Last time we used functions that belong to the datatype string to manipulate text. This week we are going to explore a much more powerful way of manipulating text - the regular expression. In order to do this we need to import the regular expressions library (https://docs.python.org/3/library/re.html):"
   ]
  },
  {
   "cell_type": "code",
   "execution_count": null,
   "id": "7b4e577d",
   "metadata": {
    "id": "7b4e577d"
   },
   "outputs": [],
   "source": [
    "import re"
   ]
  },
  {
   "cell_type": "markdown",
   "id": "23259638",
   "metadata": {
    "id": "23259638"
   },
   "source": [
    "### re.findall()\n",
    "One very useful function in the re package is re.findall() - this searches for occurences of a pattern in a given string. It takes a regular expression to search for, between quotes, as its first argument and a string to search as its second argument. If it find matches, it returns them in a list:"
   ]
  },
  {
   "cell_type": "code",
   "execution_count": null,
   "id": "c2e719a5",
   "metadata": {
    "colab": {
     "base_uri": "https://localhost:8080/"
    },
    "id": "c2e719a5",
    "outputId": "1081db47-90ba-491b-bc44-cd632743237d"
   },
   "outputs": [],
   "source": [
    "sentence=\"I like both dogs and cats\"\n",
    "re.findall(\"cats\", sentence)"
   ]
  },
  {
   "cell_type": "markdown",
   "id": "90e2559e",
   "metadata": {
    "id": "90e2559e"
   },
   "source": [
    "Exercise: Based on what you learned about in the week 2 lecture rewrite this pattern so that it finds all of the things that the speaker likes:"
   ]
  },
  {
   "cell_type": "code",
   "execution_count": null,
   "id": "69a764a7",
   "metadata": {
    "colab": {
     "base_uri": "https://localhost:8080/"
    },
    "id": "69a764a7",
    "outputId": "bb5efa14-5683-43f5-efd0-c7d52a51b627"
   },
   "outputs": [],
   "source": [
    "re.findall(\"[a-z]+s\", sentence)"
   ]
  },
  {
   "cell_type": "markdown",
   "id": "815b8799",
   "metadata": {
    "id": "815b8799"
   },
   "source": [
    "For this new sentence write a pattern that detects all of the things that the speaker likes:"
   ]
  },
  {
   "cell_type": "code",
   "execution_count": null,
   "id": "45383a36",
   "metadata": {
    "id": "45383a36"
   },
   "outputs": [],
   "source": [
    "sentence3=\"I like dogs, cats and rabbits\""
   ]
  },
  {
   "cell_type": "code",
   "execution_count": null,
   "id": "b1bf09ba",
   "metadata": {
    "colab": {
     "base_uri": "https://localhost:8080/"
    },
    "id": "b1bf09ba",
    "outputId": "ea82bbd2-882f-48ae-8d82-fc297df8e7fc"
   },
   "outputs": [],
   "source": [
    "re.findall(\"[a-z]+s\", sentence3)"
   ]
  },
  {
   "cell_type": "markdown",
   "id": "8726769c",
   "metadata": {
    "id": "8726769c"
   },
   "source": [
    "For this new sentence detect all past tense forms of verbs:"
   ]
  },
  {
   "cell_type": "code",
   "execution_count": null,
   "id": "1d57f1c6",
   "metadata": {
    "id": "1d57f1c6"
   },
   "outputs": [],
   "source": [
    "sentence4=\"I wanted some exercise so I walked to work today\""
   ]
  },
  {
   "cell_type": "code",
   "execution_count": null,
   "id": "85ef7420",
   "metadata": {
    "colab": {
     "base_uri": "https://localhost:8080/"
    },
    "id": "85ef7420",
    "outputId": "47ab124c-8ed5-4595-a763-271254cb0a36"
   },
   "outputs": [],
   "source": [
    "re.findall(\"[^ ]+ed\", sentence4)"
   ]
  },
  {
   "cell_type": "markdown",
   "id": "f6af4edd",
   "metadata": {
    "id": "f6af4edd"
   },
   "source": [
    "Do the same for sentence 5:"
   ]
  },
  {
   "cell_type": "code",
   "execution_count": null,
   "id": "1938ec36",
   "metadata": {
    "id": "1938ec36"
   },
   "outputs": [],
   "source": [
    "sentence5=\"I wanted some exercise so I walked to work today and was tired afterwards\""
   ]
  },
  {
   "cell_type": "code",
   "execution_count": null,
   "id": "1e59d214",
   "metadata": {
    "colab": {
     "base_uri": "https://localhost:8080/"
    },
    "id": "1e59d214",
    "outputId": "766445d8-2482-4db2-ba74-60c64ed76873"
   },
   "outputs": [],
   "source": [
    "re.findall(\"w[a-z]+ed|was\", sentence5)"
   ]
  },
  {
   "cell_type": "code",
   "execution_count": null,
   "id": "O9ISvqxxNP1_",
   "metadata": {
    "colab": {
     "base_uri": "https://localhost:8080/"
    },
    "id": "O9ISvqxxNP1_",
    "outputId": "4c97d2b3-4aef-4bca-f799-bdc3b107ac0c"
   },
   "outputs": [],
   "source": [
    "re.findall(\" wa[a-z]+\", sentence5)"
   ]
  },
  {
   "cell_type": "markdown",
   "id": "dd639fea-ee32-420b-9dc9-3eeebaf760d8",
   "metadata": {
    "id": "dd639fea-ee32-420b-9dc9-3eeebaf760d8"
   },
   "source": [
    "New function: len() is a built-in Python function that tells use the length of various data types and structures including strings and lists: "
   ]
  },
  {
   "cell_type": "code",
   "execution_count": null,
   "id": "00965e09-5ce8-4d85-aaff-1aca7109ffb5",
   "metadata": {
    "colab": {
     "base_uri": "https://localhost:8080/"
    },
    "id": "00965e09-5ce8-4d85-aaff-1aca7109ffb5",
    "outputId": "d5ad276c-3006-4ab1-8f06-87dd13dca68b"
   },
   "outputs": [],
   "source": [
    "len(sentence5)"
   ]
  },
  {
   "cell_type": "markdown",
   "id": "9ad4f2df-d489-4629-ad67-42e47f1a1bfb",
   "metadata": {
    "id": "9ad4f2df-d489-4629-ad67-42e47f1a1bfb"
   },
   "source": [
    "Exercise: Use the len function together with findall in order to count occurences of words in sentence 5 that end in \"ed\"."
   ]
  },
  {
   "cell_type": "code",
   "execution_count": null,
   "id": "17da41e2-4214-4bb1-af18-cf0e2a48e6af",
   "metadata": {
    "colab": {
     "base_uri": "https://localhost:8080/"
    },
    "id": "17da41e2-4214-4bb1-af18-cf0e2a48e6af",
    "outputId": "8a4485d9-56eb-42fe-8fb3-e5e1925ccf64"
   },
   "outputs": [],
   "source": [
    "pt=re.findall(\" wa[a-z]+\", sentence4)\n",
    "len(pt)"
   ]
  },
  {
   "cell_type": "markdown",
   "id": "559c5b61-2875-4c5e-805e-064b0e7311bb",
   "metadata": {
    "id": "559c5b61-2875-4c5e-805e-064b0e7311bb"
   },
   "source": [
    "### re.compile()"
   ]
  },
  {
   "cell_type": "markdown",
   "id": "3610cb9f-f6ea-4ab3-8ad9-59c225502a84",
   "metadata": {
    "id": "3610cb9f-f6ea-4ab3-8ad9-59c225502a84"
   },
   "source": [
    "For patterns that we want to use again and again we can use the function re.compile(). This returns a re \"object\" that has all of the re functions. "
   ]
  },
  {
   "cell_type": "code",
   "execution_count": null,
   "id": "0a557eb5-5b56-4f90-9fde-f65e8e30200a",
   "metadata": {
    "colab": {
     "base_uri": "https://localhost:8080/"
    },
    "id": "0a557eb5-5b56-4f90-9fde-f65e8e30200a",
    "outputId": "b18896c1-0914-4090-e6ad-ee8ff966b5f0"
   },
   "outputs": [],
   "source": [
    "past_tense = re.compile(\"w[a-z]+ed|was\")\n",
    "print(past_tense.findall(sentence4))\n",
    "print(past_tense.findall(sentence5))\n"
   ]
  },
  {
   "cell_type": "markdown",
   "id": "ba4d8356-c163-4392-bfaf-97630b7497fe",
   "metadata": {
    "id": "ba4d8356-c163-4392-bfaf-97630b7497fe"
   },
   "source": [
    "### re.sub()"
   ]
  },
  {
   "cell_type": "markdown",
   "id": "82c3dabf-a023-49f5-90fb-8709d218f78e",
   "metadata": {
    "id": "82c3dabf-a023-49f5-90fb-8709d218f78e"
   },
   "source": [
    "Another very useful function is re.sub. This finds all occurences of a given sequence and replaces it with a sequence provided:"
   ]
  },
  {
   "cell_type": "code",
   "execution_count": null,
   "id": "61b85ce6-e8cd-4eb3-904b-42c47c28a8b5",
   "metadata": {
    "colab": {
     "base_uri": "https://localhost:8080/"
    },
    "id": "61b85ce6-e8cd-4eb3-904b-42c47c28a8b5",
    "outputId": "36038110-8d9e-4ec2-92fe-87a4493b7b52"
   },
   "outputs": [],
   "source": [
    "print(re.sub('ed','ing',sentence5))"
   ]
  },
  {
   "cell_type": "markdown",
   "id": "6cfb84ae",
   "metadata": {
    "id": "6cfb84ae"
   },
   "source": [
    "For lots of applications of re.sub you will need to \"cascade\" substitutions - apply one substitution and take the output as input to the next as in the following command which turns \"I like both dogs and cats\" into \"I like  both lions and tigers\": "
   ]
  },
  {
   "cell_type": "code",
   "execution_count": null,
   "id": "b8a3edf7",
   "metadata": {
    "colab": {
     "base_uri": "https://localhost:8080/"
    },
    "id": "b8a3edf7",
    "outputId": "f1381973-12eb-4101-a1aa-018eb8279d69"
   },
   "outputs": [],
   "source": [
    "s2 = re.sub('dogs','lions',sentence)\n",
    "print(s2)\n",
    "s3 = re.sub('cats','tigers',s2)\n",
    "print(s3)"
   ]
  },
  {
   "cell_type": "markdown",
   "id": "af9dfd45-d384-4e6e-ace8-56b54da6462e",
   "metadata": {
    "id": "af9dfd45-d384-4e6e-ace8-56b54da6462e"
   },
   "source": [
    "Activity: Write a regular expression or series of regular expression to translate this first sentence of \"Crime and Punishment\" from past to present tense."
   ]
  },
  {
   "cell_type": "code",
   "execution_count": null,
   "id": "ff0974f6-9a71-48fb-9b7d-e8d6b70ab3e9",
   "metadata": {
    "colab": {
     "base_uri": "https://localhost:8080/"
    },
    "id": "ff0974f6-9a71-48fb-9b7d-e8d6b70ab3e9",
    "outputId": "75a5ec54-12c1-4c67-97d7-b5a0a85fec26",
    "scrolled": true
   },
   "outputs": [],
   "source": [
    "opening_sentence = \"On an exceptionally hot evening early in July a young man came out of the garret in which he lodged in S. Place and walked slowly, as though in hesitation, towards K. bridge.\"\n",
    "s2 = re.sub('came','comes',opening_sentence)\n",
    "s3 = re.sub('lodged','lodges',s2)\n",
    "s4 = re.sub('walked','walks',s3)\n",
    "print(s4)"
   ]
  },
  {
   "cell_type": "markdown",
   "id": "a1dbb833-d727-4406-b841-00f593e0a7e7",
   "metadata": {
    "id": "a1dbb833-d727-4406-b841-00f593e0a7e7"
   },
   "source": [
    "### Groups"
   ]
  },
  {
   "cell_type": "markdown",
   "id": "c2d91273-4d07-444b-b80b-9e1ab940241d",
   "metadata": {
    "id": "c2d91273-4d07-444b-b80b-9e1ab940241d"
   },
   "source": [
    "Grouping is a very powerful technique for picking out substrings from a string that matches a specified pattern. It is done using parentheses. The technically can be used to get a list of the substrings (technically a tuple which is like a list but immutable meaning that the element cannot be changed once created)."
   ]
  },
  {
   "cell_type": "code",
   "execution_count": null,
   "id": "c95a71b8-0d7e-4ece-99a2-5eace6b15e42",
   "metadata": {
    "colab": {
     "base_uri": "https://localhost:8080/"
    },
    "id": "c95a71b8-0d7e-4ece-99a2-5eace6b15e42",
    "outputId": "09f1945f-f2b8-4b43-b592-a129318fa348"
   },
   "outputs": [],
   "source": [
    "re.findall(\"(.*)(s)\", \"cats\")"
   ]
  },
  {
   "cell_type": "markdown",
   "id": "7d20a12a",
   "metadata": {
    "id": "7d20a12a"
   },
   "source": [
    "Exercise: In this example grouping has separated a single noun from the plural marking -s. Rewrite the pattern so that it finds and similarly separates all plural nouns in sentence 3: "
   ]
  },
  {
   "cell_type": "code",
   "execution_count": null,
   "id": "0594d6e9",
   "metadata": {
    "id": "0594d6e9"
   },
   "outputs": [],
   "source": [
    "sentence3=\"I like dogs, cats and rabbits\""
   ]
  },
  {
   "cell_type": "code",
   "execution_count": null,
   "id": "598a18ad",
   "metadata": {
    "colab": {
     "base_uri": "https://localhost:8080/"
    },
    "id": "598a18ad",
    "outputId": "c8b713b4-d3ff-4908-d31c-760fb175b8c8"
   },
   "outputs": [],
   "source": [
    "re.findall(\"([a-z]+)(s)\", sentence3)"
   ]
  },
  {
   "cell_type": "markdown",
   "id": "W10pIHKQWh-K",
   "metadata": {
    "id": "W10pIHKQWh-K"
   },
   "source": [
    "## Combining sub with groups\n",
    "The re.sub function and grouping become particularly powerful when they are combined. You can use parentheses to capture a particular substring within a pattern and then use it in your replacement string within sub. For example:"
   ]
  },
  {
   "cell_type": "code",
   "execution_count": null,
   "id": "i8P2ny2QWr_c",
   "metadata": {
    "id": "i8P2ny2QWr_c"
   },
   "outputs": [],
   "source": [
    "opening_sentence = \"a young man came out of the garret in which he lodged in S. Place and walked slowly towards K. bridge.\""
   ]
  },
  {
   "cell_type": "code",
   "execution_count": null,
   "id": "Ve8qXeH6WuU6",
   "metadata": {
    "colab": {
     "base_uri": "https://localhost:8080/",
     "height": 35
    },
    "id": "Ve8qXeH6WuU6",
    "outputId": "04686767-94d0-4863-d7a1-5d7dbf0cedd9"
   },
   "outputs": [],
   "source": [
    "re.sub('([a-z]+)ed','is \\\\1ing',opening_sentence)"
   ]
  },
  {
   "cell_type": "markdown",
   "id": "5DV88YVcWwzg",
   "metadata": {
    "id": "5DV88YVcWwzg"
   },
   "source": [
    "\n",
    "Activity: Use sub combined with groups to convert the sentence \"man bites dog\" into \"dog bites man\""
   ]
  },
  {
   "cell_type": "code",
   "execution_count": null,
   "id": "8ef1ab1e",
   "metadata": {},
   "outputs": [],
   "source": [
    "sentence = \"man bites dog\"\n",
    "print(re.sub('(man) (bites) (dog)','\\\\3 \\\\2 \\\\1',sentence))"
   ]
  }
 ],
 "metadata": {
  "colab": {
   "provenance": []
  },
  "kernelspec": {
   "display_name": "Python 3",
   "language": "python",
   "name": "python3"
  },
  "language_info": {
   "codemirror_mode": {
    "name": "ipython",
    "version": 3
   },
   "file_extension": ".py",
   "mimetype": "text/x-python",
   "name": "python",
   "nbconvert_exporter": "python",
   "pygments_lexer": "ipython3",
   "version": "3.8.8"
  }
 },
 "nbformat": 4,
 "nbformat_minor": 5
}
