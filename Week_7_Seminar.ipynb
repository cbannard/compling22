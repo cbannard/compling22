{
  "cells": [
    {
      "cell_type": "markdown",
      "metadata": {
        "id": "ag1DD6P8qBVx"
      },
      "source": [
        "# LELA32051 Computational Linguistics Week 7\n",
        "\n",
        "This week we are going to take a look at chatbots."
      ]
    },
    {
      "cell_type": "markdown",
      "metadata": {
        "id": "LAYPJ3UjGfEe"
      },
      "source": [
        "## Rule-based chatbot: Eliza"
      ]
    },
    {
      "cell_type": "markdown",
      "metadata": {
        "id": "hYDo9tiBGfEf"
      },
      "source": [
        "As described in this week's lecture, Eliza is a chatbot that simulates a Rogerian therapist, making use of a set of rules in the form of regular expressions. At the heart of Eliza are the substitution function (re.sub in Python) and grouping. We'll start with a quick recap as to what these are.\n",
        "\n",
        "We need to import the Regular Expressions module in Python."
      ]
    },
    {
      "cell_type": "code",
      "execution_count": null,
      "metadata": {
        "id": "M4xjJlYyGfEf"
      },
      "outputs": [],
      "source": [
        "import re"
      ]
    },
    {
      "cell_type": "markdown",
      "metadata": {
        "id": "WCwy1soxGfEg"
      },
      "source": [
        "This gives as access to the very useful function re.sub."
      ]
    },
    {
      "cell_type": "markdown",
      "metadata": {
        "tags": [],
        "id": "MeZuDlwjGfEg"
      },
      "source": [
        "### re.sub()\n",
        "\n",
        "This finds all occurences of a given sequence and replaces it with a sequence provided:"
      ]
    },
    {
      "cell_type": "code",
      "execution_count": null,
      "metadata": {
        "id": "f0xesJBeGfEg"
      },
      "outputs": [],
      "source": [
        "utt = 'walked'\n",
        "re.sub('ed','ing',utt)"
      ]
    },
    {
      "cell_type": "markdown",
      "metadata": {
        "id": "tO7079ZFGfEg"
      },
      "source": [
        "### Groups\n",
        "\n",
        "Grouping is a very powerful technique for picking out substrings from a string that matches a specified pattern. Parentheses are used to indicate the start and end of the substring. It is very powerful when combined with substitution.\n",
        "\n",
        "You can use parentheses to capture a particular substring within a pattern and then use it in your replacement string within sub. For example:\n"
      ]
    },
    {
      "cell_type": "code",
      "execution_count": null,
      "metadata": {
        "scrolled": true,
        "id": "yH1CzL2eGfEh"
      },
      "outputs": [],
      "source": [
        "utt = \"procrastinating\"\n",
        "re.sub('([a-z]+)ing','\\\\1ed',utt)"
      ]
    },
    {
      "cell_type": "markdown",
      "metadata": {
        "id": "SahdXR5gGfEh"
      },
      "source": [
        "## A very simple Elizabot\n",
        "\n",
        "The code below implements a very simple Eliza. The function respond takes an utterance as input and using re.sub to generate responses. The loop below the function creates a simple interface that takes user input and prints the response.\n",
        "\n",
        "We can extend Eliza's ability by adding additional rules."
      ]
    },
    {
      "cell_type": "code",
      "execution_count": null,
      "metadata": {
        "id": "bFv8yrpylNuU"
      },
      "outputs": [],
      "source": [
        "def respond(utt):\n",
        "  utt = re.sub('hello my name is (.+)','hello \\\\1 how are you feeling today', utt)\n",
        "  return utt"
      ]
    },
    {
      "cell_type": "code",
      "execution_count": null,
      "metadata": {
        "id": "dcIjRBRKlKfi"
      },
      "outputs": [],
      "source": [
        "utt = \"\"\n",
        "while utt != 'goodbye':\n",
        "    utt = input('> ')\n",
        "    reply = respond(utt)\n",
        "    if reply != utt:\n",
        "        print(reply)\n",
        "    else:\n",
        "        if utt != \"goodbye\":\n",
        "            print(\"Can you rephrase that?\")"
      ]
    },
    {
      "cell_type": "markdown",
      "metadata": {
        "id": "YUEniCI2qK-X"
      },
      "source": [
        "### Activity\n",
        "\n",
        "Add patterns (using substitutions and grouping) to the respond function that will allow Eliza to conduct both of these conversations. Test your system by conducting the conversation with Eliza.\n",
        "\n",
        "User: hello my name is emma <br>\n",
        "Eliza: Hello emma my name is Eliza. How are you feeling today? <br>\n",
        "User: i am feeling very happy <br>\n",
        "Eliza: Do you often feel happy? <br>\n",
        "User: yes since I started my new job <br>\n",
        "Eliza: Can you tell me about starting your new job? <br>\n",
        "\n",
        "User: hello my name is john <br>\n",
        "Eliza: Hello john, my name is Eliza. How are you feeling today? <br>\n",
        "User: i am feeling pretty happy <br>\n",
        "Eliza: Do you often feel happy? <br>\n",
        "User: yes since I moved house <br>\n",
        "Eliza: Can you tell me about moving house? <br>"
      ]
    },
    {
      "cell_type": "markdown",
      "metadata": {
        "id": "X73c2TC8GfEi"
      },
      "source": [
        "### Reverse engineering the NLTK Eliza\n",
        "\n",
        "There have been many implementations of Eliza over the years. One version is built into the NLTK toolkit. This can be run as follows:\n"
      ]
    },
    {
      "cell_type": "code",
      "execution_count": null,
      "metadata": {
        "id": "o1fqK44ethJ3"
      },
      "outputs": [],
      "source": [
        "import nltk"
      ]
    },
    {
      "cell_type": "code",
      "execution_count": null,
      "metadata": {
        "id": "4yOeuTVotfQJ",
        "scrolled": true
      },
      "outputs": [],
      "source": [
        "nltk.chat.eliza.demo()"
      ]
    },
    {
      "cell_type": "markdown",
      "metadata": {
        "id": "wmgV6lRhGfEi"
      },
      "source": [
        "Activity: Conduct a four-turn-each conversation of your own with the NLTK Eliza. Adds the substitution that you think Eliza is using to generate the responses to your own chatbot using the code below. Where you find Eliza's response to be lacking, update the substitution to give a better response."
      ]
    },
    {
      "cell_type": "code",
      "execution_count": null,
      "metadata": {
        "tags": [],
        "id": "j0soxWz_GfEj"
      },
      "outputs": [],
      "source": [
        "def respond(utt):\n",
        "  utt = re.sub('hello my name is (.+)','hello \\\\1 how are you feeling today', utt)\n",
        "  return utt"
      ]
    },
    {
      "cell_type": "code",
      "execution_count": null,
      "metadata": {
        "id": "JG4BbyjwGfEj"
      },
      "outputs": [],
      "source": [
        "utt = \"\"\n",
        "while utt != 'goodbye':\n",
        "    utt = input('> ')\n",
        "    reply = respond(utt)\n",
        "    if reply != utt:\n",
        "        print(reply)\n",
        "    else:\n",
        "        if utt != \"goodbye\":\n",
        "            print(\"Can you rephrase that?\")"
      ]
    },
    {
      "cell_type": "markdown",
      "metadata": {
        "id": "TIDS4M25uKXP"
      },
      "source": [
        "## Corpus-based chatbots"
      ]
    },
    {
      "cell_type": "markdown",
      "metadata": {
        "id": "yIUnZjlxsUj1"
      },
      "source": [
        "Training and running a corpus-based chatbot takes more steps than we have time for today. If you want to have a go in your own time, then you will find a tutorial for doing so in Pytorch here:\n",
        "\n",
        "https://pytorch.org/tutorials/beginner/chatbot_tutorial.html\n",
        "\n",
        "There is a link at the top of the page to open the notebook in Colab.\n",
        "\n",
        "To run this in colab easily just put the following code block at the top and run it before working through the rest of the notebook."
      ]
    },
    {
      "cell_type": "code",
      "execution_count": null,
      "metadata": {
        "id": "OeH9i901GfEk"
      },
      "outputs": [],
      "source": [
        "! wget https://zissou.infosci.cornell.edu/convokit/datasets/movie-corpus/movie-corpus.zip\n",
        "! unzip movie-corpus.zip\n",
        "! mkdir data\n",
        "! mv movie-corpus data/"
      ]
    },
    {
      "cell_type": "markdown",
      "source": [
        "You can try the Facebook Corpus-based chatbot (Blenderbot) here:\n",
        "https://link.ainize.ai/3z6sgq2"
      ],
      "metadata": {
        "id": "89blygPdGiWc"
      }
    }
  ],
  "metadata": {
    "colab": {
      "collapsed_sections": [],
      "name": "Week_7_Seminar.ipynb",
      "provenance": []
    },
    "kernelspec": {
      "display_name": "Python 3 (ipykernel)",
      "language": "python",
      "name": "python3"
    },
    "language_info": {
      "codemirror_mode": {
        "name": "ipython",
        "version": 3
      },
      "file_extension": ".py",
      "mimetype": "text/x-python",
      "name": "python",
      "nbconvert_exporter": "python",
      "pygments_lexer": "ipython3",
      "version": "3.9.12"
    }
  },
  "nbformat": 4,
  "nbformat_minor": 0
}